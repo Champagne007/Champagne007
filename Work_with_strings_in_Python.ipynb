{
  "nbformat": 4,
  "nbformat_minor": 0,
  "metadata": {
    "colab": {
      "provenance": [],
      "authorship_tag": "ABX9TyNKq6oFAFQrevsIA07vwlLt",
      "include_colab_link": true
    },
    "kernelspec": {
      "name": "python3",
      "display_name": "Python 3"
    },
    "language_info": {
      "name": "python"
    }
  },
  "cells": [
    {
      "cell_type": "markdown",
      "metadata": {
        "id": "view-in-github",
        "colab_type": "text"
      },
      "source": [
        "<a href=\"https://colab.research.google.com/github/Champagne007/Champagne007/blob/main/Work_with_strings_in_Python.ipynb\" target=\"_parent\"><img src=\"https://colab.research.google.com/assets/colab-badge.svg\" alt=\"Open In Colab\"/></a>"
      ]
    },
    {
      "cell_type": "code",
      "execution_count": 1,
      "metadata": {
        "colab": {
          "base_uri": "https://localhost:8080/"
        },
        "id": "0zravqUlFO3v",
        "outputId": "d1192ba8-3955-4c8b-e707-75dfc33b1b23"
      },
      "outputs": [
        {
          "output_type": "stream",
          "name": "stdout",
          "text": [
            "<class 'int'>\n",
            "<class 'str'>\n"
          ]
        }
      ],
      "source": [
        "# Assign `employee_id` to a four digit number as an initial value\n",
        "\n",
        "employee_id = 4186\n",
        "\n",
        "# Display the data type of `employee_id`\n",
        "\n",
        "print(type(employee_id))\n",
        "\n",
        "# Reassign `employee_id` to the same value but in the form of a string\n",
        "\n",
        "employee_id = str(employee_id)\n",
        "\n",
        "# Display the data type of `employee_id` now\n",
        "\n",
        "print(type(employee_id))\n"
      ]
    },
    {
      "cell_type": "code",
      "source": [
        "# Assign `employee_id` to a four digit number as an initial value\n",
        "\n",
        "employee_id = 4186\n",
        "\n",
        "# Reassign `employee_id` to the same value but in the form of a string\n",
        "\n",
        "employee_id = str(employee_id)\n",
        "\n",
        "# Conditional statement that displays a message if the employee ID length is less than 5 digits\n",
        "\n",
        "if len(employee_id) < 5:\n",
        "    print(\"This employee ID has less than five digits. It does not meet length requirements.\")\n",
        ""
      ],
      "metadata": {
        "colab": {
          "base_uri": "https://localhost:8080/"
        },
        "id": "XV5GBAOsJEwL",
        "outputId": "e699cbbd-9fff-41c1-c589-6e3a1dc41070"
      },
      "execution_count": 3,
      "outputs": [
        {
          "output_type": "stream",
          "name": "stdout",
          "text": [
            "This employee ID has less than five digits. It does not meet length requirements.\n"
          ]
        }
      ]
    },
    {
      "cell_type": "code",
      "source": [
        "# Assign `employee_id` to a four digit number as an initial value\n",
        "\n",
        "employee_id = 4186\n",
        "\n",
        "# Reassign `employee_id` to the same value but in the form of a string\n",
        "\n",
        "employee_id = str(employee_id)\n",
        "\n",
        "# Display the `employee_id` as it currently stands\n",
        "\n",
        "print(employee_id)\n",
        "\n",
        "# Conditional statement that updates the `employee_id` if its length is less than 5 digits\n",
        "\n",
        "if len(employee_id) < 5:\n",
        "    employee_id = \"E\" + employee_id\n",
        "\n",
        "# Display the `employee_id` after the update\n",
        "\n",
        "print(employee_id)\n"
      ],
      "metadata": {
        "colab": {
          "base_uri": "https://localhost:8080/"
        },
        "id": "qwGDGPHZJL1j",
        "outputId": "d887ec0a-0780-43f0-b2bd-8690a11c54d2"
      },
      "execution_count": 4,
      "outputs": [
        {
          "output_type": "stream",
          "name": "stdout",
          "text": [
            "4186\n",
            "E4186\n"
          ]
        }
      ]
    },
    {
      "cell_type": "code",
      "source": [
        "# Assign `device_id` to a string that contains alphanumeric characters\n",
        "\n",
        "device_id = \"r262c36\"\n",
        "\n",
        "# Extract the fourth character in `device_id` and display it\n",
        "\n",
        "print(device_id[3])\n"
      ],
      "metadata": {
        "colab": {
          "base_uri": "https://localhost:8080/"
        },
        "id": "W0MF7QMJJTIQ",
        "outputId": "d227751a-1626-4348-a31a-93b85fb3e6e4"
      },
      "execution_count": 5,
      "outputs": [
        {
          "output_type": "stream",
          "name": "stdout",
          "text": [
            "2\n"
          ]
        }
      ]
    },
    {
      "cell_type": "code",
      "source": [
        "# Assign `device_id` to a string that contains alphanumeric characters\n",
        "\n",
        "device_id = \"r262c36\"\n",
        "\n",
        "# Extract the first through the third characters in `device_id` and display the result\n",
        "\n",
        "device_id[0:3]\n"
      ],
      "metadata": {
        "colab": {
          "base_uri": "https://localhost:8080/",
          "height": 35
        },
        "id": "aJpotUaqJW55",
        "outputId": "817cc501-cc12-4a34-ec58-fed71d1ca685"
      },
      "execution_count": 6,
      "outputs": [
        {
          "output_type": "execute_result",
          "data": {
            "text/plain": [
              "'r26'"
            ],
            "application/vnd.google.colaboratory.intrinsic+json": {
              "type": "string"
            }
          },
          "metadata": {},
          "execution_count": 6
        }
      ]
    },
    {
      "cell_type": "code",
      "source": [
        "# Assign `url` to a specific URL\n",
        "\n",
        "url = \"https://exampleURL1.com\"\n",
        "\n",
        "# Extract the protocol of `url` along with the syntax following it, display the result\n",
        "\n",
        "print(url[0:8])\n"
      ],
      "metadata": {
        "colab": {
          "base_uri": "https://localhost:8080/"
        },
        "id": "o4QMf5H9JZ9m",
        "outputId": "48b013e4-2605-4b1d-ec1a-3f814a1ade5c"
      },
      "execution_count": 7,
      "outputs": [
        {
          "output_type": "stream",
          "name": "stdout",
          "text": [
            "https://\n"
          ]
        }
      ]
    },
    {
      "cell_type": "code",
      "source": [
        "# Assign `url` to a specific URL\n",
        "\n",
        "url = \"https://exampleURL1.com\"\n",
        "\n",
        "# Display the index where the domain extension \".com\" is located in `url`\n",
        "\n",
        "print(url.index(\".com\"))\n"
      ],
      "metadata": {
        "colab": {
          "base_uri": "https://localhost:8080/"
        },
        "id": "4K_YlhC6JhUU",
        "outputId": "91e567b6-a796-43eb-f978-01416d0219b6"
      },
      "execution_count": 8,
      "outputs": [
        {
          "output_type": "stream",
          "name": "stdout",
          "text": [
            "19\n"
          ]
        }
      ]
    },
    {
      "cell_type": "code",
      "source": [
        "# Assign `url` to a specific URL\n",
        "\n",
        "url = \"https://exampleURL1.com\"\n",
        "\n",
        "# Assign `ind` to the output of applying `.index()` to `url` in order to extract the starting index of \".com\" in `url`\n",
        "\n",
        "ind = url.index(\".com\")\n"
      ],
      "metadata": {
        "id": "ZV67bE73JniC"
      },
      "execution_count": 11,
      "outputs": []
    },
    {
      "cell_type": "code",
      "source": [
        "# Assign `url` to a specific URL\n",
        "\n",
        "url = \"https://exampleURL1.com\"\n",
        "\n",
        "# Assign `ind` to the output of applying `.index()` to `url` in order to extract the starting index of \".com\" in `url`\n",
        "\n",
        "ind = url.index(\".com\")\n",
        "\n",
        "# Extract the domain extension in `url` and display it\n",
        "\n",
        "print(url[ind:ind+4])\n"
      ],
      "metadata": {
        "colab": {
          "base_uri": "https://localhost:8080/"
        },
        "id": "e1QEWd-OJroC",
        "outputId": "c6965ffd-0db7-4a8c-ac47-49ab112223bb"
      },
      "execution_count": 12,
      "outputs": [
        {
          "output_type": "stream",
          "name": "stdout",
          "text": [
            ".com\n"
          ]
        }
      ]
    },
    {
      "cell_type": "code",
      "source": [
        "# Assign `url` to a specific URL\n",
        "\n",
        "url = \"https://exampleURL1.com\"\n",
        "\n",
        "# Assign `ind` to the output of applying `.index()` to `url` in order to extract the starting index of \".com\" in `url`\n",
        "\n",
        "ind = url.index(\".com\")\n",
        "\n",
        "# Extract the website name in `url` and display it\n",
        "\n",
        "print(url[8:ind])\n"
      ],
      "metadata": {
        "colab": {
          "base_uri": "https://localhost:8080/"
        },
        "id": "_wlzaplbJ1Zr",
        "outputId": "9d667318-39cb-4cf2-d3ee-1aff40c02ce7"
      },
      "execution_count": 13,
      "outputs": [
        {
          "output_type": "stream",
          "name": "stdout",
          "text": [
            "exampleURL1\n"
          ]
        }
      ]
    }
  ]
}