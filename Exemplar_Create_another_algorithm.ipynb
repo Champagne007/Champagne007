{
  "nbformat": 4,
  "nbformat_minor": 0,
  "metadata": {
    "colab": {
      "provenance": [],
      "authorship_tag": "ABX9TyNVyADVSxn9W0yds6NF4yOd",
      "include_colab_link": true
    },
    "kernelspec": {
      "name": "python3",
      "display_name": "Python 3"
    },
    "language_info": {
      "name": "python"
    }
  },
  "cells": [
    {
      "cell_type": "markdown",
      "metadata": {
        "id": "view-in-github",
        "colab_type": "text"
      },
      "source": [
        "<a href=\"https://colab.research.google.com/github/Champagne007/Champagne007/blob/main/Exemplar_Create_another_algorithm.ipynb\" target=\"_parent\"><img src=\"https://colab.research.google.com/assets/colab-badge.svg\" alt=\"Open In Colab\"/></a>"
      ]
    },
    {
      "cell_type": "code",
      "execution_count": 1,
      "metadata": {
        "colab": {
          "base_uri": "https://localhost:8080/"
        },
        "id": "kcTRnZOkSnd8",
        "outputId": "2f2b8d74-5858-4145-f75a-61fd8f3ed453"
      },
      "outputs": [
        {
          "output_type": "stream",
          "name": "stdout",
          "text": [
            "allow_list.txt\n",
            "['192.168.97.225', '192.168.158.170', '192.168.201.40', '192.168.58.57']\n"
          ]
        }
      ],
      "source": [
        "# Assign `import_file` to the name of the file\n",
        "\n",
        "import_file = \"allow_list.txt\"\n",
        "\n",
        "# Assign `remove_list` to a list of IP addresses that are no longer allowed to access restricted information.\n",
        "\n",
        "remove_list = [\"192.168.97.225\", \"192.168.158.170\", \"192.168.201.40\", \"192.168.58.57\"]\n",
        "\n",
        "# Display `import_file`\n",
        "\n",
        "print(import_file)\n",
        "\n",
        "# Display `remove_list`\n",
        "\n",
        "print(remove_list)"
      ]
    },
    {
      "cell_type": "code",
      "source": [
        "# Assign `import_file` to the name of the file\n",
        "\n",
        "import_file = \"allow_list.txt\"\n",
        "\n",
        "# Assign `remove_list` to a list of IP addresses that are no longer allowed to access restricted information.\n",
        "\n",
        "remove_list = [\"192.168.97.225\", \"192.168.158.170\", \"192.168.201.40\", \"192.168.58.57\"]\n",
        "\n",
        "# First line of `with` statement\n",
        "\n",
        "with open(import_file, \"r\") as file:"
      ],
      "metadata": {
        "colab": {
          "base_uri": "https://localhost:8080/",
          "height": 106
        },
        "id": "YJ76qE7uS1wv",
        "outputId": "cf3fb8e9-4291-45a3-cf2e-a858d7ea696d"
      },
      "execution_count": 2,
      "outputs": [
        {
          "output_type": "error",
          "ename": "SyntaxError",
          "evalue": "incomplete input (<ipython-input-2-b925af1022fc>, line 11)",
          "traceback": [
            "\u001b[0;36m  File \u001b[0;32m\"<ipython-input-2-b925af1022fc>\"\u001b[0;36m, line \u001b[0;32m11\u001b[0m\n\u001b[0;31m    with open(import_file, \"r\") as file:\u001b[0m\n\u001b[0m                                        ^\u001b[0m\n\u001b[0;31mSyntaxError\u001b[0m\u001b[0;31m:\u001b[0m incomplete input\n"
          ]
        }
      ]
    },
    {
      "cell_type": "code",
      "source": [
        "import_file = \"allow_list.txt\"\n",
        "\n",
        "remove_list = [\"192.168.97.225\", \"192.168.158.170\", \"192.168.201.40\", \"192.168.58.57\"]\n",
        "\n",
        "# First line of `with` statement\n",
        "with open(import_file, \"r\") as file:\n",
        "    # Read all the IP addresses from the file and split by line to get each IP separately\n",
        "    ip_addresses = file.readlines()\n",
        "\n",
        "# Remove newline characters from the list of IP addresses\n",
        "ip_addresses = [ip.strip() for ip in ip_addresses]\n",
        "\n",
        "# Filter out the IP addresses that need to be removed\n",
        "filtered_ip_addresses = [ip for ip in ip_addresses if ip not in remove_list]\n",
        "\n",
        "# Display the filtered list of IP addresses\n",
        "print(filtered_ip_addresses)\n"
      ],
      "metadata": {
        "colab": {
          "base_uri": "https://localhost:8080/",
          "height": 211
        },
        "id": "WBHTb0dHUHDO",
        "outputId": "8a473bc0-1064-4a36-bf3c-e6fe86e2e8a0"
      },
      "execution_count": 4,
      "outputs": [
        {
          "output_type": "error",
          "ename": "FileNotFoundError",
          "evalue": "[Errno 2] No such file or directory: 'allow_list.txt'",
          "traceback": [
            "\u001b[0;31m---------------------------------------------------------------------------\u001b[0m",
            "\u001b[0;31mFileNotFoundError\u001b[0m                         Traceback (most recent call last)",
            "\u001b[0;32m<ipython-input-4-1d517c10e5fa>\u001b[0m in \u001b[0;36m<cell line: 6>\u001b[0;34m()\u001b[0m\n\u001b[1;32m      4\u001b[0m \u001b[0;34m\u001b[0m\u001b[0m\n\u001b[1;32m      5\u001b[0m \u001b[0;31m# First line of `with` statement\u001b[0m\u001b[0;34m\u001b[0m\u001b[0;34m\u001b[0m\u001b[0m\n\u001b[0;32m----> 6\u001b[0;31m \u001b[0;32mwith\u001b[0m \u001b[0mopen\u001b[0m\u001b[0;34m(\u001b[0m\u001b[0mimport_file\u001b[0m\u001b[0;34m,\u001b[0m \u001b[0;34m\"r\"\u001b[0m\u001b[0;34m)\u001b[0m \u001b[0;32mas\u001b[0m \u001b[0mfile\u001b[0m\u001b[0;34m:\u001b[0m\u001b[0;34m\u001b[0m\u001b[0;34m\u001b[0m\u001b[0m\n\u001b[0m\u001b[1;32m      7\u001b[0m     \u001b[0;31m# Read all the IP addresses from the file and split by line to get each IP separately\u001b[0m\u001b[0;34m\u001b[0m\u001b[0;34m\u001b[0m\u001b[0m\n\u001b[1;32m      8\u001b[0m     \u001b[0mip_addresses\u001b[0m \u001b[0;34m=\u001b[0m \u001b[0mfile\u001b[0m\u001b[0;34m.\u001b[0m\u001b[0mreadlines\u001b[0m\u001b[0;34m(\u001b[0m\u001b[0;34m)\u001b[0m\u001b[0;34m\u001b[0m\u001b[0;34m\u001b[0m\u001b[0m\n",
            "\u001b[0;31mFileNotFoundError\u001b[0m: [Errno 2] No such file or directory: 'allow_list.txt'"
          ]
        }
      ]
    },
    {
      "source": [
        "import os\n",
        "\n",
        "import_file = \"allow_list.txt\"\n",
        "\n",
        "remove_list = [\"192.168.97.225\", \"192.168.158.170\", \"192.168.201.40\", \"192.168.58.57\"]\n",
        "\n",
        "# First line of `with` statement\n",
        "\n",
        "# Check if the file exists in the current directory\n",
        "if not os.path.exists(import_file):\n",
        "    # If not, assume it's in the same directory as the script\n",
        "    import_file = os.path.join(os.path.dirname(__file__), import_file)\n",
        "\n",
        "with open(import_file, \"r\") as file:\n",
        "    # Read all the IP addresses from the file and split by line to get each IP separately\n",
        "    ip_addresses = file.readlines()\n",
        "\n",
        "# Remove newline characters from the list of IP addresses\n",
        "ip_addresses = [ip.strip() for ip in ip_addresses]\n",
        "\n",
        "# Filter out the IP addresses that need to be removed\n",
        "filtered_ip_addresses = [ip for ip in ip_addresses if ip not in remove_list]\n",
        "\n",
        "# Display the filtered list of IP addresses\n",
        "print(filtered_ip_addresses)"
      ],
      "cell_type": "code",
      "metadata": {
        "colab": {
          "base_uri": "https://localhost:8080/",
          "height": 211
        },
        "id": "Y-pAWE1KUiPf",
        "outputId": "fb81df63-cae4-4357-b632-0d87ec23f966"
      },
      "execution_count": 5,
      "outputs": [
        {
          "output_type": "error",
          "ename": "NameError",
          "evalue": "name '__file__' is not defined",
          "traceback": [
            "\u001b[0;31m---------------------------------------------------------------------------\u001b[0m",
            "\u001b[0;31mNameError\u001b[0m                                 Traceback (most recent call last)",
            "\u001b[0;32m<ipython-input-5-7b7afab35c4c>\u001b[0m in \u001b[0;36m<cell line: 10>\u001b[0;34m()\u001b[0m\n\u001b[1;32m     10\u001b[0m \u001b[0;32mif\u001b[0m \u001b[0;32mnot\u001b[0m \u001b[0mos\u001b[0m\u001b[0;34m.\u001b[0m\u001b[0mpath\u001b[0m\u001b[0;34m.\u001b[0m\u001b[0mexists\u001b[0m\u001b[0;34m(\u001b[0m\u001b[0mimport_file\u001b[0m\u001b[0;34m)\u001b[0m\u001b[0;34m:\u001b[0m\u001b[0;34m\u001b[0m\u001b[0;34m\u001b[0m\u001b[0m\n\u001b[1;32m     11\u001b[0m     \u001b[0;31m# If not, assume it's in the same directory as the script\u001b[0m\u001b[0;34m\u001b[0m\u001b[0;34m\u001b[0m\u001b[0m\n\u001b[0;32m---> 12\u001b[0;31m     \u001b[0mimport_file\u001b[0m \u001b[0;34m=\u001b[0m \u001b[0mos\u001b[0m\u001b[0;34m.\u001b[0m\u001b[0mpath\u001b[0m\u001b[0;34m.\u001b[0m\u001b[0mjoin\u001b[0m\u001b[0;34m(\u001b[0m\u001b[0mos\u001b[0m\u001b[0;34m.\u001b[0m\u001b[0mpath\u001b[0m\u001b[0;34m.\u001b[0m\u001b[0mdirname\u001b[0m\u001b[0;34m(\u001b[0m\u001b[0m__file__\u001b[0m\u001b[0;34m)\u001b[0m\u001b[0;34m,\u001b[0m \u001b[0mimport_file\u001b[0m\u001b[0;34m)\u001b[0m\u001b[0;34m\u001b[0m\u001b[0;34m\u001b[0m\u001b[0m\n\u001b[0m\u001b[1;32m     13\u001b[0m \u001b[0;34m\u001b[0m\u001b[0m\n\u001b[1;32m     14\u001b[0m \u001b[0;32mwith\u001b[0m \u001b[0mopen\u001b[0m\u001b[0;34m(\u001b[0m\u001b[0mimport_file\u001b[0m\u001b[0;34m,\u001b[0m \u001b[0;34m\"r\"\u001b[0m\u001b[0;34m)\u001b[0m \u001b[0;32mas\u001b[0m \u001b[0mfile\u001b[0m\u001b[0;34m:\u001b[0m\u001b[0;34m\u001b[0m\u001b[0;34m\u001b[0m\u001b[0m\n",
            "\u001b[0;31mNameError\u001b[0m: name '__file__' is not defined"
          ]
        }
      ]
    },
    {
      "cell_type": "code",
      "source": [
        "# Assign `import_file` to the name of the file\n",
        "\n",
        "import_file = \"allow_list.txt\"\n",
        "\n",
        "# Assign `remove_list` to a list of IP addresses that are no longer allowed to access restricted information.\n",
        "\n",
        "remove_list = [\"192.168.97.225\", \"192.168.158.170\", \"192.168.201.40\", \"192.168.58.57\"]\n",
        "\n",
        "# Build `with` statement to read in the initial contents of the file\n",
        "\n",
        "with open(import_file, \"r\") as file:\n",
        "\n",
        "  # Use `.read()` to read the imported file and store it in a variable named `ip_addresses`\n",
        "\n",
        "  ip_addresses = file.read()\n",
        "\n",
        "# Display `ip_addresses`\n",
        "\n",
        "print(ip_addresses)"
      ],
      "metadata": {
        "colab": {
          "base_uri": "https://localhost:8080/",
          "height": 228
        },
        "id": "t6TUqHehS-Ju",
        "outputId": "4a5c0ace-5e77-4ccf-a279-4a38ed4da74d"
      },
      "execution_count": 3,
      "outputs": [
        {
          "output_type": "error",
          "ename": "FileNotFoundError",
          "evalue": "[Errno 2] No such file or directory: 'allow_list.txt'",
          "traceback": [
            "\u001b[0;31m---------------------------------------------------------------------------\u001b[0m",
            "\u001b[0;31mFileNotFoundError\u001b[0m                         Traceback (most recent call last)",
            "\u001b[0;32m<ipython-input-3-d851b7f49047>\u001b[0m in \u001b[0;36m<cell line: 11>\u001b[0;34m()\u001b[0m\n\u001b[1;32m      9\u001b[0m \u001b[0;31m# Build `with` statement to read in the initial contents of the file\u001b[0m\u001b[0;34m\u001b[0m\u001b[0;34m\u001b[0m\u001b[0m\n\u001b[1;32m     10\u001b[0m \u001b[0;34m\u001b[0m\u001b[0m\n\u001b[0;32m---> 11\u001b[0;31m \u001b[0;32mwith\u001b[0m \u001b[0mopen\u001b[0m\u001b[0;34m(\u001b[0m\u001b[0mimport_file\u001b[0m\u001b[0;34m,\u001b[0m \u001b[0;34m\"r\"\u001b[0m\u001b[0;34m)\u001b[0m \u001b[0;32mas\u001b[0m \u001b[0mfile\u001b[0m\u001b[0;34m:\u001b[0m\u001b[0;34m\u001b[0m\u001b[0;34m\u001b[0m\u001b[0m\n\u001b[0m\u001b[1;32m     12\u001b[0m \u001b[0;34m\u001b[0m\u001b[0m\n\u001b[1;32m     13\u001b[0m   \u001b[0;31m# Use `.read()` to read the imported file and store it in a variable named `ip_addresses`\u001b[0m\u001b[0;34m\u001b[0m\u001b[0;34m\u001b[0m\u001b[0m\n",
            "\u001b[0;31mFileNotFoundError\u001b[0m: [Errno 2] No such file or directory: 'allow_list.txt'"
          ]
        }
      ]
    },
    {
      "cell_type": "code",
      "source": [
        "# Assign `import_file` to the name of the file\n",
        "\n",
        "import_file = \"allow_list.txt\"\n",
        "\n",
        "# Assign `remove_list` to a list of IP addresses that are no longer allowed to access restricted information.\n",
        "\n",
        "remove_list = [\"192.168.97.225\", \"192.168.158.170\", \"192.168.201.40\", \"192.168.58.57\"]\n",
        "\n",
        "# Build `with` statement to read in the initial contents of the file\n",
        "\n",
        "with open(import_file, \"r\") as file:\n",
        "\n",
        "  # Use `.read()` to read the imported file and store it in a variable named `ip_addresses`\n",
        "\n",
        "  ip_addresses = file.read()\n",
        "\n",
        "# Use `.split()` to convert `ip_addresses` from a string to a list\n",
        "\n",
        "ip_addresses = ip_addresses.split()\n",
        "\n",
        "# Display `ip_addresses`\n",
        "\n",
        "print(ip_addresses)"
      ],
      "metadata": {
        "colab": {
          "base_uri": "https://localhost:8080/",
          "height": 228
        },
        "id": "4B2m81cGVyk5",
        "outputId": "646c8c4f-ccbb-4d76-8994-4383c0e6f78b"
      },
      "execution_count": 6,
      "outputs": [
        {
          "output_type": "error",
          "ename": "FileNotFoundError",
          "evalue": "[Errno 2] No such file or directory: 'allow_list.txt'",
          "traceback": [
            "\u001b[0;31m---------------------------------------------------------------------------\u001b[0m",
            "\u001b[0;31mFileNotFoundError\u001b[0m                         Traceback (most recent call last)",
            "\u001b[0;32m<ipython-input-6-b7102b7e46cb>\u001b[0m in \u001b[0;36m<cell line: 11>\u001b[0;34m()\u001b[0m\n\u001b[1;32m      9\u001b[0m \u001b[0;31m# Build `with` statement to read in the initial contents of the file\u001b[0m\u001b[0;34m\u001b[0m\u001b[0;34m\u001b[0m\u001b[0m\n\u001b[1;32m     10\u001b[0m \u001b[0;34m\u001b[0m\u001b[0m\n\u001b[0;32m---> 11\u001b[0;31m \u001b[0;32mwith\u001b[0m \u001b[0mopen\u001b[0m\u001b[0;34m(\u001b[0m\u001b[0mimport_file\u001b[0m\u001b[0;34m,\u001b[0m \u001b[0;34m\"r\"\u001b[0m\u001b[0;34m)\u001b[0m \u001b[0;32mas\u001b[0m \u001b[0mfile\u001b[0m\u001b[0;34m:\u001b[0m\u001b[0;34m\u001b[0m\u001b[0;34m\u001b[0m\u001b[0m\n\u001b[0m\u001b[1;32m     12\u001b[0m \u001b[0;34m\u001b[0m\u001b[0m\n\u001b[1;32m     13\u001b[0m   \u001b[0;31m# Use `.read()` to read the imported file and store it in a variable named `ip_addresses`\u001b[0m\u001b[0;34m\u001b[0m\u001b[0;34m\u001b[0m\u001b[0m\n",
            "\u001b[0;31mFileNotFoundError\u001b[0m: [Errno 2] No such file or directory: 'allow_list.txt'"
          ]
        }
      ]
    },
    {
      "cell_type": "code",
      "source": [
        "# Assign `import_file` to the name of the file\n",
        "\n",
        "import_file = \"allow_list.txt\"\n",
        "\n",
        "# Assign `remove_list` to a list of IP addresses that are no longer allowed to access restricted information.\n",
        "\n",
        "remove_list = [\"192.168.97.225\", \"192.168.158.170\", \"192.168.201.40\", \"192.168.58.57\"]\n",
        "\n",
        "# Build `with` statement to read in the initial contents of the file\n",
        "\n",
        "with open(import_file, \"r\") as file:\n",
        "\n",
        "  # Use `.read()` to read the imported file and store it in a variable named `ip_addresses`\n",
        "\n",
        "  ip_addresses = file.read()\n",
        "\n",
        "# Use `.split()` to convert `ip_addresses` from a string to a list\n",
        "\n",
        "ip_addresses = ip_addresses.split()\n",
        "\n",
        "# Build iterative statement\n",
        "# Name loop variable `element`\n",
        "# Loop through `ip_addresses`\n",
        "\n",
        "for element in ip_addresses:\n",
        "\n",
        "    # Display `element` in every iteration\n",
        "\n",
        "    print(element)"
      ],
      "metadata": {
        "colab": {
          "base_uri": "https://localhost:8080/",
          "height": 228
        },
        "id": "IaygnehzV4IV",
        "outputId": "da5c8678-ab16-4297-b134-2e474864724c"
      },
      "execution_count": 7,
      "outputs": [
        {
          "output_type": "error",
          "ename": "FileNotFoundError",
          "evalue": "[Errno 2] No such file or directory: 'allow_list.txt'",
          "traceback": [
            "\u001b[0;31m---------------------------------------------------------------------------\u001b[0m",
            "\u001b[0;31mFileNotFoundError\u001b[0m                         Traceback (most recent call last)",
            "\u001b[0;32m<ipython-input-7-4bcf9971268c>\u001b[0m in \u001b[0;36m<cell line: 11>\u001b[0;34m()\u001b[0m\n\u001b[1;32m      9\u001b[0m \u001b[0;31m# Build `with` statement to read in the initial contents of the file\u001b[0m\u001b[0;34m\u001b[0m\u001b[0;34m\u001b[0m\u001b[0m\n\u001b[1;32m     10\u001b[0m \u001b[0;34m\u001b[0m\u001b[0m\n\u001b[0;32m---> 11\u001b[0;31m \u001b[0;32mwith\u001b[0m \u001b[0mopen\u001b[0m\u001b[0;34m(\u001b[0m\u001b[0mimport_file\u001b[0m\u001b[0;34m,\u001b[0m \u001b[0;34m\"r\"\u001b[0m\u001b[0;34m)\u001b[0m \u001b[0;32mas\u001b[0m \u001b[0mfile\u001b[0m\u001b[0;34m:\u001b[0m\u001b[0;34m\u001b[0m\u001b[0;34m\u001b[0m\u001b[0m\n\u001b[0m\u001b[1;32m     12\u001b[0m \u001b[0;34m\u001b[0m\u001b[0m\n\u001b[1;32m     13\u001b[0m   \u001b[0;31m# Use `.read()` to read the imported file and store it in a variable named `ip_addresses`\u001b[0m\u001b[0;34m\u001b[0m\u001b[0;34m\u001b[0m\u001b[0m\n",
            "\u001b[0;31mFileNotFoundError\u001b[0m: [Errno 2] No such file or directory: 'allow_list.txt'"
          ]
        }
      ]
    },
    {
      "cell_type": "code",
      "source": [
        "# Assign `import_file` to the name of the file\n",
        "\n",
        "import_file = \"allow_list.txt\"\n",
        "\n",
        "# Assign `remove_list` to a list of IP addresses that are no longer allowed to access restricted information.\n",
        "\n",
        "remove_list = [\"192.168.97.225\", \"192.168.158.170\", \"192.168.201.40\", \"192.168.58.57\"]\n",
        "\n",
        "# Build `with` statement to read in the initial contents of the file\n",
        "\n",
        "with open(import_file, \"r\") as file:\n",
        "\n",
        "  # Use `.read()` to read the imported file and store it in a variable named `ip_addresses`\n",
        "\n",
        "  ip_addresses = file.read()\n",
        "\n",
        "# Use `.split()` to convert `ip_addresses` from a string to a list\n",
        "\n",
        "ip_addresses = ip_addresses.split()\n",
        "\n",
        "# Build iterative statement\n",
        "# Name loop variable `element`\n",
        "# Loop through `ip_addresses`\n",
        "\n",
        "for element in ip_addresses:\n",
        "\n",
        "  # Build conditional statement\n",
        "  # If current element is in `remove_list`,\n",
        "\n",
        "    if element in remove_list:\n",
        "\n",
        "        # then current element should be removed from `ip_addresses`\n",
        "\n",
        "        ip_addresses.remove(element)\n",
        "\n",
        "# Display `ip_addresses`\n",
        "\n",
        "print(ip_addresses)"
      ],
      "metadata": {
        "colab": {
          "base_uri": "https://localhost:8080/",
          "height": 228
        },
        "id": "QG6USnyHV_6X",
        "outputId": "3374fe69-01b9-44ce-f9a6-acbd25f63e8a"
      },
      "execution_count": 8,
      "outputs": [
        {
          "output_type": "error",
          "ename": "FileNotFoundError",
          "evalue": "[Errno 2] No such file or directory: 'allow_list.txt'",
          "traceback": [
            "\u001b[0;31m---------------------------------------------------------------------------\u001b[0m",
            "\u001b[0;31mFileNotFoundError\u001b[0m                         Traceback (most recent call last)",
            "\u001b[0;32m<ipython-input-8-3a9ae98ee5fe>\u001b[0m in \u001b[0;36m<cell line: 11>\u001b[0;34m()\u001b[0m\n\u001b[1;32m      9\u001b[0m \u001b[0;31m# Build `with` statement to read in the initial contents of the file\u001b[0m\u001b[0;34m\u001b[0m\u001b[0;34m\u001b[0m\u001b[0m\n\u001b[1;32m     10\u001b[0m \u001b[0;34m\u001b[0m\u001b[0m\n\u001b[0;32m---> 11\u001b[0;31m \u001b[0;32mwith\u001b[0m \u001b[0mopen\u001b[0m\u001b[0;34m(\u001b[0m\u001b[0mimport_file\u001b[0m\u001b[0;34m,\u001b[0m \u001b[0;34m\"r\"\u001b[0m\u001b[0;34m)\u001b[0m \u001b[0;32mas\u001b[0m \u001b[0mfile\u001b[0m\u001b[0;34m:\u001b[0m\u001b[0;34m\u001b[0m\u001b[0;34m\u001b[0m\u001b[0m\n\u001b[0m\u001b[1;32m     12\u001b[0m \u001b[0;34m\u001b[0m\u001b[0m\n\u001b[1;32m     13\u001b[0m   \u001b[0;31m# Use `.read()` to read the imported file and store it in a variable named `ip_addresses`\u001b[0m\u001b[0;34m\u001b[0m\u001b[0;34m\u001b[0m\u001b[0m\n",
            "\u001b[0;31mFileNotFoundError\u001b[0m: [Errno 2] No such file or directory: 'allow_list.txt'"
          ]
        }
      ]
    },
    {
      "cell_type": "code",
      "source": [
        "# Assign `import_file` to the name of the file\n",
        "\n",
        "import_file = \"allow_list.txt\"\n",
        "\n",
        "# Assign `remove_list` to a list of IP addresses that are no longer allowed to access restricted information.\n",
        "\n",
        "remove_list = [\"192.168.97.225\", \"192.168.158.170\", \"192.168.201.40\", \"192.168.58.57\"]\n",
        "\n",
        "# Build `with` statement to read in the initial contents of the file\n",
        "\n",
        "with open(import_file, \"r\") as file:\n",
        "\n",
        "  # Use `.read()` to read the imported file and store it in a variable named `ip_addresses`\n",
        "\n",
        "  ip_addresses = file.read()\n",
        "\n",
        "# Use `.split()` to convert `ip_addresses` from a string to a list\n",
        "\n",
        "ip_addresses = ip_addresses.split()\n",
        "\n",
        "# Build iterative statement\n",
        "# Name loop variable `element`\n",
        "# Loop through `ip_addresses`\n",
        "\n",
        "for element in ip_addresses:\n",
        "\n",
        "  # Build conditional statement\n",
        "  # If current element is in `remove_list`,\n",
        "\n",
        "    if element in remove_list:\n",
        "\n",
        "        # then current element should be removed from `ip_addresses`\n",
        "\n",
        "        ip_addresses.remove(element)\n",
        "\n",
        "# Convert `ip_addresses` back to a string so that it can be written into the text file\n",
        "\n",
        "ip_addresses = \" \".join(ip_addresses)\n",
        "\n",
        "# Build `with` statement to rewrite the original file\n",
        "\n",
        "with open(import_file, \"w\") as file:\n",
        "\n",
        "  # Rewrite the file, replacing its contents with `ip_addresses`\n",
        "\n",
        "  file.write(ip_addresses)"
      ],
      "metadata": {
        "id": "7ub260NyWFqo"
      },
      "execution_count": null,
      "outputs": []
    },
    {
      "cell_type": "code",
      "source": [
        "# Assign `import_file` to the name of the file\n",
        "\n",
        "import_file = \"allow_list.txt\"\n",
        "\n",
        "# Assign `remove_list` to a list of IP addresses that are no longer allowed to access restricted information.\n",
        "\n",
        "remove_list = [\"192.168.97.225\", \"192.168.158.170\", \"192.168.201.40\", \"192.168.58.57\"]\n",
        "\n",
        "# Build `with` statement to read in the initial contents of the file\n",
        "\n",
        "with open(import_file, \"r\") as file:\n",
        "\n",
        "  # Use `.read()` to read the imported file and store it in a variable named `ip_addresses`\n",
        "\n",
        "  ip_addresses = file.read()\n",
        "\n",
        "# Use `.split()` to convert `ip_addresses` from a string to a list\n",
        "\n",
        "ip_addresses = ip_addresses.split()\n",
        "\n",
        "# Build iterative statement\n",
        "# Name loop variable `element`\n",
        "# Loop through `ip_addresses`\n",
        "\n",
        "for element in ip_addresses:\n",
        "\n",
        "  # Build conditional statement\n",
        "  # If current element is in `remove_list`,\n",
        "\n",
        "    if element in remove_list:\n",
        "\n",
        "        # then current element should be removed from `ip_addresses`\n",
        "\n",
        "        ip_addresses.remove(element)\n",
        "\n",
        "# Convert `ip_addresses` back to a string so that it can be written into the text file\n",
        "\n",
        "ip_addresses = \" \".join(ip_addresses)\n",
        "\n",
        "# Build `with` statement to rewrite the original file\n",
        "\n",
        "with open(import_file, \"w\") as file:\n",
        "\n",
        "  # Rewrite the file, replacing its contents with `ip_addresses`\n",
        "\n",
        "  file.write(ip_addresses)\n",
        "\n",
        "# Build `with` statement to read in the updated file\n",
        "\n",
        "with open(import_file, \"r\") as file:\n",
        "\n",
        "    # Read in the updated file and store the contents in `text`\n",
        "\n",
        "    text = file.read()\n",
        "\n",
        "# Display the contents of `text`\n",
        "\n",
        "print(text)"
      ],
      "metadata": {
        "colab": {
          "base_uri": "https://localhost:8080/",
          "height": 228
        },
        "id": "YesrtszSWGsh",
        "outputId": "5043a94a-aa10-4887-de10-f89bf01338f5"
      },
      "execution_count": 9,
      "outputs": [
        {
          "output_type": "error",
          "ename": "FileNotFoundError",
          "evalue": "[Errno 2] No such file or directory: 'allow_list.txt'",
          "traceback": [
            "\u001b[0;31m---------------------------------------------------------------------------\u001b[0m",
            "\u001b[0;31mFileNotFoundError\u001b[0m                         Traceback (most recent call last)",
            "\u001b[0;32m<ipython-input-9-47b321efadf8>\u001b[0m in \u001b[0;36m<cell line: 11>\u001b[0;34m()\u001b[0m\n\u001b[1;32m      9\u001b[0m \u001b[0;31m# Build `with` statement to read in the initial contents of the file\u001b[0m\u001b[0;34m\u001b[0m\u001b[0;34m\u001b[0m\u001b[0m\n\u001b[1;32m     10\u001b[0m \u001b[0;34m\u001b[0m\u001b[0m\n\u001b[0;32m---> 11\u001b[0;31m \u001b[0;32mwith\u001b[0m \u001b[0mopen\u001b[0m\u001b[0;34m(\u001b[0m\u001b[0mimport_file\u001b[0m\u001b[0;34m,\u001b[0m \u001b[0;34m\"r\"\u001b[0m\u001b[0;34m)\u001b[0m \u001b[0;32mas\u001b[0m \u001b[0mfile\u001b[0m\u001b[0;34m:\u001b[0m\u001b[0;34m\u001b[0m\u001b[0;34m\u001b[0m\u001b[0m\n\u001b[0m\u001b[1;32m     12\u001b[0m \u001b[0;34m\u001b[0m\u001b[0m\n\u001b[1;32m     13\u001b[0m   \u001b[0;31m# Use `.read()` to read the imported file and store it in a variable named `ip_addresses`\u001b[0m\u001b[0;34m\u001b[0m\u001b[0;34m\u001b[0m\u001b[0m\n",
            "\u001b[0;31mFileNotFoundError\u001b[0m: [Errno 2] No such file or directory: 'allow_list.txt'"
          ]
        }
      ]
    },
    {
      "cell_type": "code",
      "source": [
        "# Define a function named `update_file` that takes in two parameters: `import_file` and `remove_list`\n",
        "# and combines the steps you've written in this lab leading up to this\n",
        "\n",
        "def update_file(import_file, remove_list):\n",
        "\n",
        "    # Build `with` statement to read in the initial contents of the file\n",
        "\n",
        "    with open(import_file, \"r\") as file:\n",
        "\n",
        "        # Use `.read()` to read the imported file and store it in a variable named `ip_addresses`\n",
        "\n",
        "        ip_addresses = file.read()\n",
        "\n",
        "    # Use `.split()` to convert `ip_addresses` from a string to a list\n",
        "\n",
        "    ip_addresses = ip_addresses.split()\n",
        "\n",
        "    # Build iterative statement\n",
        "    # Name loop variable `element`\n",
        "    # Loop through `ip_addresses`\n",
        "\n",
        "    for element in ip_addresses:\n",
        "\n",
        "        # Build conditional statement\n",
        "        # If current element is in `remove_list`,\n",
        "\n",
        "        if element in remove_list:\n",
        "\n",
        "            # then current element should be removed from `ip_addresses`\n",
        "\n",
        "            ip_addresses.remove(element)\n",
        "\n",
        "    # Convert `ip_addresses` back to a string so that it can be written into the text file\n",
        "\n",
        "    ip_addresses = \" \".join(ip_addresses)\n",
        "\n",
        "    # Build `with` statement to rewrite the original file\n",
        "\n",
        "    with open(import_file, \"w\") as file:\n",
        "\n",
        "        # Rewrite the file, replacing its contents with `ip_addresses`\n",
        "\n",
        "        file.write(ip_addresses)"
      ],
      "metadata": {
        "id": "g_ZNp4PLWP8M"
      },
      "execution_count": 10,
      "outputs": []
    },
    {
      "cell_type": "code",
      "source": [],
      "metadata": {
        "id": "UWr6bMI2WSSe"
      },
      "execution_count": null,
      "outputs": []
    },
    {
      "cell_type": "code",
      "source": [
        "# Define a function named `update_file` that takes in two parameters: `import_file` and `remove_list`\n",
        "# and combines the steps you've written in this lab leading up to this\n",
        "\n",
        "def update_file(import_file, remove_list):\n",
        "\n",
        "  # Build `with` statement to read in the initial contents of the file\n",
        "\n",
        "  with open(import_file, \"r\") as file:\n",
        "\n",
        "    # Use `.read()` to read the imported file and store it in a variable named `ip_addresses`\n",
        "\n",
        "    ip_addresses = file.read()\n",
        "\n",
        "  # Use `.split()` to convert `ip_addresses` from a string to a list\n",
        "\n",
        "  ip_addresses = ip_addresses.split()\n",
        "\n",
        "  # Build iterative statement\n",
        "  # Name loop variable `element`\n",
        "  # Loop through `ip_addresses`\n",
        "\n",
        "  for element in ip_addresses:\n",
        "\n",
        "    # Build conditional statement\n",
        "    # If current element is in `remove_list`,\n",
        "\n",
        "    if element in remove_list:\n",
        "\n",
        "      # then current element should be removed from `ip_addresses`\n",
        "\n",
        "      ip_addresses.remove(element)\n",
        "\n",
        "  # Convert `ip_addresses` back to a string so that it can be written into the text file\n",
        "\n",
        "  ip_addresses = \" \".join(ip_addresses)\n",
        "\n",
        "  # Build `with` statement to rewrite the original file\n",
        "\n",
        "  with open(import_file, \"w\") as file:\n",
        "\n",
        "    # Rewrite the file, replacing its contents with `ip_addresses`\n",
        "\n",
        "    file.write(ip_addresses)\n",
        "\n",
        "# Call `update_file()` and pass in \"allow_list.txt\" and a list of IP addresses to be removed\n",
        "\n",
        "update_file(\"allow_list.txt\", [\"192.168.25.60\", \"192.168.140.81\", \"192.168.203.198\"])\n",
        "\n",
        "# Build `with` statement to read in the updated file\n",
        "\n",
        "with open(\"allow_list.txt\", \"r\") as file:\n",
        "\n",
        "  # Read in the updated file and store the contents in `text`\n",
        "\n",
        "  text = file.read()\n",
        "\n",
        "# Display the contents of `text`\n",
        "\n",
        "print(text)"
      ],
      "metadata": {
        "colab": {
          "base_uri": "https://localhost:8080/",
          "height": 367
        },
        "id": "YJA-zJQLWWLX",
        "outputId": "b13e2886-5c3c-47dd-bbdf-b7c8b3ba9db7"
      },
      "execution_count": 11,
      "outputs": [
        {
          "output_type": "error",
          "ename": "FileNotFoundError",
          "evalue": "[Errno 2] No such file or directory: 'allow_list.txt'",
          "traceback": [
            "\u001b[0;31m---------------------------------------------------------------------------\u001b[0m",
            "\u001b[0;31mFileNotFoundError\u001b[0m                         Traceback (most recent call last)",
            "\u001b[0;32m<ipython-input-11-fa355bafbc24>\u001b[0m in \u001b[0;36m<cell line: 47>\u001b[0;34m()\u001b[0m\n\u001b[1;32m     45\u001b[0m \u001b[0;31m# Call `update_file()` and pass in \"allow_list.txt\" and a list of IP addresses to be removed\u001b[0m\u001b[0;34m\u001b[0m\u001b[0;34m\u001b[0m\u001b[0m\n\u001b[1;32m     46\u001b[0m \u001b[0;34m\u001b[0m\u001b[0m\n\u001b[0;32m---> 47\u001b[0;31m \u001b[0mupdate_file\u001b[0m\u001b[0;34m(\u001b[0m\u001b[0;34m\"allow_list.txt\"\u001b[0m\u001b[0;34m,\u001b[0m \u001b[0;34m[\u001b[0m\u001b[0;34m\"192.168.25.60\"\u001b[0m\u001b[0;34m,\u001b[0m \u001b[0;34m\"192.168.140.81\"\u001b[0m\u001b[0;34m,\u001b[0m \u001b[0;34m\"192.168.203.198\"\u001b[0m\u001b[0;34m]\u001b[0m\u001b[0;34m)\u001b[0m\u001b[0;34m\u001b[0m\u001b[0;34m\u001b[0m\u001b[0m\n\u001b[0m\u001b[1;32m     48\u001b[0m \u001b[0;34m\u001b[0m\u001b[0m\n\u001b[1;32m     49\u001b[0m \u001b[0;31m# Build `with` statement to read in the updated file\u001b[0m\u001b[0;34m\u001b[0m\u001b[0;34m\u001b[0m\u001b[0m\n",
            "\u001b[0;32m<ipython-input-11-fa355bafbc24>\u001b[0m in \u001b[0;36mupdate_file\u001b[0;34m(import_file, remove_list)\u001b[0m\n\u001b[1;32m      6\u001b[0m   \u001b[0;31m# Build `with` statement to read in the initial contents of the file\u001b[0m\u001b[0;34m\u001b[0m\u001b[0;34m\u001b[0m\u001b[0m\n\u001b[1;32m      7\u001b[0m \u001b[0;34m\u001b[0m\u001b[0m\n\u001b[0;32m----> 8\u001b[0;31m   \u001b[0;32mwith\u001b[0m \u001b[0mopen\u001b[0m\u001b[0;34m(\u001b[0m\u001b[0mimport_file\u001b[0m\u001b[0;34m,\u001b[0m \u001b[0;34m\"r\"\u001b[0m\u001b[0;34m)\u001b[0m \u001b[0;32mas\u001b[0m \u001b[0mfile\u001b[0m\u001b[0;34m:\u001b[0m\u001b[0;34m\u001b[0m\u001b[0;34m\u001b[0m\u001b[0m\n\u001b[0m\u001b[1;32m      9\u001b[0m \u001b[0;34m\u001b[0m\u001b[0m\n\u001b[1;32m     10\u001b[0m     \u001b[0;31m# Use `.read()` to read the imported file and store it in a variable named `ip_addresses`\u001b[0m\u001b[0;34m\u001b[0m\u001b[0;34m\u001b[0m\u001b[0m\n",
            "\u001b[0;31mFileNotFoundError\u001b[0m: [Errno 2] No such file or directory: 'allow_list.txt'"
          ]
        }
      ]
    },
    {
      "cell_type": "code",
      "source": [
        "- Python has functions and syntax that help you import and parse text files.\n",
        "  - The `with` statement allows you to efficiently handle files.\n",
        "  - The `open()` function allows you to import or open a file. It takes in the name of the file as the first parameter and a string that indicates the purpose of opening the file as the second parameter.\n",
        "    - Specify `\"r\"` as the second parameter if you're opening the file for reading purposes.\n",
        "    - Specify `\"w\"` as the second parameter if you're opening the file for writing purposes.\n",
        "  - The `.read()` method allows you to read in a file.\n",
        "  - The `.write()` method allows you to append or write to a file.\n",
        "- You can use a `for` loop to iterate over a list.\n",
        "- You can use an `if` statement to check if a given value is in a list and execute a specific action if so.\n",
        "- You can use the `.split()` method to convert a string to a list.\n",
        "- You can use Python to compare contents of a text file against elements of a list.\n",
        "- Algorithms can be incorporated into functions. When defining a function, you must specify the parameters it takes in and the actions it should execute."
      ],
      "metadata": {
        "id": "wUeheCyZWfRx"
      },
      "execution_count": null,
      "outputs": []
    }
  ]
}