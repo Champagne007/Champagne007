{
  "nbformat": 4,
  "nbformat_minor": 0,
  "metadata": {
    "colab": {
      "provenance": [],
      "authorship_tag": "ABX9TyMjKgqL3INsH2pttzUU5Dot",
      "include_colab_link": true
    },
    "kernelspec": {
      "name": "python3",
      "display_name": "Python 3"
    },
    "language_info": {
      "name": "python"
    }
  },
  "cells": [
    {
      "cell_type": "markdown",
      "metadata": {
        "id": "view-in-github",
        "colab_type": "text"
      },
      "source": [
        "<a href=\"https://colab.research.google.com/github/Champagne007/Champagne007/blob/main/Define_and_call_a_function.ipynb\" target=\"_parent\"><img src=\"https://colab.research.google.com/assets/colab-badge.svg\" alt=\"Open In Colab\"/></a>"
      ]
    },
    {
      "cell_type": "code",
      "execution_count": 1,
      "metadata": {
        "id": "bR-FYq5Jh-YD"
      },
      "outputs": [],
      "source": [
        "# Define a function named `alert()`\n",
        "\n",
        "def alert():\n",
        "    print(\"Potential security issue. Investigate further.\")"
      ]
    },
    {
      "cell_type": "code",
      "source": [
        "# Define a function named `alert()`\n",
        "\n",
        "def alert():\n",
        "    print(\"Potential security issue. Investigate further.\")\n",
        "\n",
        "# Call the `alert()` function\n",
        "\n",
        "alert()\n"
      ],
      "metadata": {
        "colab": {
          "base_uri": "https://localhost:8080/"
        },
        "id": "FgCNbWE8qqMX",
        "outputId": "5e042056-066d-4eff-c287-63b009b42342"
      },
      "execution_count": 2,
      "outputs": [
        {
          "output_type": "stream",
          "name": "stdout",
          "text": [
            "Potential security issue. Investigate further.\n"
          ]
        }
      ]
    },
    {
      "cell_type": "code",
      "source": [
        "# Define a function named `alert()`\n",
        "\n",
        "def alert():\n",
        "    for i in range(3):\n",
        "        print(\"Potential security issue. Investigate further.\")\n",
        "\n",
        "# Call the `alert()` function\n",
        "\n",
        "alert()"
      ],
      "metadata": {
        "colab": {
          "base_uri": "https://localhost:8080/"
        },
        "id": "odE0wv8uqvAF",
        "outputId": "6a0dc253-c68f-4346-b4be-4a6d85266dca"
      },
      "execution_count": 3,
      "outputs": [
        {
          "output_type": "stream",
          "name": "stdout",
          "text": [
            "Potential security issue. Investigate further.\n",
            "Potential security issue. Investigate further.\n",
            "Potential security issue. Investigate further.\n"
          ]
        }
      ]
    },
    {
      "cell_type": "code",
      "source": [
        "# Define a function named `list_to_string()`\n",
        "\n",
        "def list_to_string():\n",
        ""
      ],
      "metadata": {
        "colab": {
          "base_uri": "https://localhost:8080/",
          "height": 106
        },
        "id": "P8eO9DpBqwbY",
        "outputId": "2c4ae4bd-1fb8-42a2-e4c3-feb0b8b624cd"
      },
      "execution_count": 4,
      "outputs": [
        {
          "output_type": "error",
          "ename": "SyntaxError",
          "evalue": "incomplete input (<ipython-input-4-f8846884868b>, line 4)",
          "traceback": [
            "\u001b[0;36m  File \u001b[0;32m\"<ipython-input-4-f8846884868b>\"\u001b[0;36m, line \u001b[0;32m4\u001b[0m\n\u001b[0;31m    \u001b[0m\n\u001b[0m    ^\u001b[0m\n\u001b[0;31mSyntaxError\u001b[0m\u001b[0;31m:\u001b[0m incomplete input\n"
          ]
        }
      ]
    },
    {
      "cell_type": "code",
      "source": [
        "# Define a function named `list_to_string()`\n",
        "\n",
        "def list_to_string():\n",
        "\n",
        "  # Store the list of approved usernames in a variable named `username_list`\n",
        "\n",
        "  username_list = [\"elarson\", \"bmoreno\", \"tshah\", \"sgilmore\", \"eraab\", \"gesparza\", \"alevitsk\", \"wjaffrey\"]\n",
        "\n",
        "  # Write a for loop that iterates through the elements of `username_list` and displays each element\n",
        "\n",
        "  for i in username_list:\n",
        "    print(i)\n",
        "\n",
        "# Call the `list_to_string()` function\n",
        "\n",
        "list_to_string()"
      ],
      "metadata": {
        "colab": {
          "base_uri": "https://localhost:8080/"
        },
        "id": "unqiA5hwq89r",
        "outputId": "a0e7d29a-26c1-4687-8b62-3804fce49cb4"
      },
      "execution_count": 5,
      "outputs": [
        {
          "output_type": "stream",
          "name": "stdout",
          "text": [
            "elarson\n",
            "bmoreno\n",
            "tshah\n",
            "sgilmore\n",
            "eraab\n",
            "gesparza\n",
            "alevitsk\n",
            "wjaffrey\n"
          ]
        }
      ]
    },
    {
      "cell_type": "code",
      "source": [
        "# Define a function named `list_to_string()`\n",
        "\n",
        "def list_to_string():\n",
        "\n",
        "  # Store the list of approved usernames in a variable named `username_list`\n",
        "\n",
        "  username_list = [\"elarson\", \"bmoreno\", \"tshah\", \"sgilmore\", \"eraab\", \"gesparza\", \"alevitsk\", \"wjaffrey\"]\n",
        "\n",
        "  # Assign `sum_variable` to an empty string\n",
        "\n",
        "  sum_variable = \"\"\n",
        "\n",
        "  # Write a for loop that iterates through the elements of `username_list` and displays each element\n",
        "\n",
        "  for i in username_list:\n",
        "    sum_variable = sum_variable + i\n",
        "\n",
        "  # Display the value of `sum_variable`\n",
        "\n",
        "  print(sum_variable)\n",
        "\n",
        "# Call the `list_to_string()` function\n",
        "\n",
        "list_to_string()"
      ],
      "metadata": {
        "colab": {
          "base_uri": "https://localhost:8080/"
        },
        "id": "JFxtJbsKrEKt",
        "outputId": "8faee14d-082d-47ea-d82c-12a4e3c45c1c"
      },
      "execution_count": 6,
      "outputs": [
        {
          "output_type": "stream",
          "name": "stdout",
          "text": [
            "elarsonbmorenotshahsgilmoreeraabgesparzaalevitskwjaffrey\n"
          ]
        }
      ]
    },
    {
      "cell_type": "code",
      "source": [
        "# Define a function named `list_to_string()`\n",
        "\n",
        "def list_to_string():\n",
        "\n",
        "  # Store the list of approved usernames in a variable named `username_list`\n",
        "\n",
        "  username_list = [\"elarson\", \"bmoreno\", \"tshah\", \"sgilmore\", \"eraab\", \"gesparza\", \"alevitsk\", \"wjaffrey\"]\n",
        "\n",
        "  # Assign `sum_variable` to an empty string\n",
        "\n",
        "  sum_variable = \"\"\n",
        "\n",
        "  # Write a for loop that iterates through the elements of `username_list` and displays each element\n",
        "\n",
        "  for i in username_list:\n",
        "    sum_variable = sum_variable + i + \", \"\n",
        "\n",
        "  # Display the value of `sum_variable`\n",
        "\n",
        "  print(sum_variable)\n",
        "\n",
        "# Call the `list_to_string()` function\n",
        "\n",
        "list_to_string()"
      ],
      "metadata": {
        "colab": {
          "base_uri": "https://localhost:8080/"
        },
        "id": "2pSEAb-ErJJe",
        "outputId": "ec6fe4a9-860c-4447-a0eb-01d37b967066"
      },
      "execution_count": 7,
      "outputs": [
        {
          "output_type": "stream",
          "name": "stdout",
          "text": [
            "elarson, bmoreno, tshah, sgilmore, eraab, gesparza, alevitsk, wjaffrey, \n"
          ]
        }
      ]
    }
  ]
}