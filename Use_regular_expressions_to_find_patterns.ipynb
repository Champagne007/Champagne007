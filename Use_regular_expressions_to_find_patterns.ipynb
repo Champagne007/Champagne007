{
  "nbformat": 4,
  "nbformat_minor": 0,
  "metadata": {
    "colab": {
      "provenance": [],
      "authorship_tag": "ABX9TyMqy/VEogjxoMXE8Sh8WPN1",
      "include_colab_link": true
    },
    "kernelspec": {
      "name": "python3",
      "display_name": "Python 3"
    },
    "language_info": {
      "name": "python"
    }
  },
  "cells": [
    {
      "cell_type": "markdown",
      "metadata": {
        "id": "view-in-github",
        "colab_type": "text"
      },
      "source": [
        "<a href=\"https://colab.research.google.com/github/Champagne007/Champagne007/blob/main/Use_regular_expressions_to_find_patterns.ipynb\" target=\"_parent\"><img src=\"https://colab.research.google.com/assets/colab-badge.svg\" alt=\"Open In Colab\"/></a>"
      ]
    },
    {
      "cell_type": "code",
      "execution_count": 2,
      "metadata": {
        "id": "CIqBcs-o_GRl"
      },
      "outputs": [],
      "source": [
        "# Import the `re` module in Python\n",
        "\n",
        "import re"
      ]
    },
    {
      "cell_type": "code",
      "source": [
        "# Assign `devices` to a string containing device IDs, each device ID represented by alphanumeric characters\n",
        "\n",
        "devices = \"r262c36 67bv8fy 41j1u2e r151dm4 1270t3o 42dr56i r15xk9h 2j33krk 253be78 ac742a1 r15u9q5 zh86b2l ii286fq 9x482kt 6oa6m6u x3463ac i4l56nq g07h55q 081qc9t r159r1u\"\n",
        "\n",
        "# Display the contents of `devices`\n",
        "\n",
        "print(devices)"
      ],
      "metadata": {
        "colab": {
          "base_uri": "https://localhost:8080/"
        },
        "id": "LWGtW5-O_Qxg",
        "outputId": "f3f4ffe4-f7b0-4791-baf0-aca5478af29a"
      },
      "execution_count": 3,
      "outputs": [
        {
          "output_type": "stream",
          "name": "stdout",
          "text": [
            "r262c36 67bv8fy 41j1u2e r151dm4 1270t3o 42dr56i r15xk9h 2j33krk 253be78 ac742a1 r15u9q5 zh86b2l ii286fq 9x482kt 6oa6m6u x3463ac i4l56nq g07h55q 081qc9t r159r1u\n"
          ]
        }
      ]
    },
    {
      "cell_type": "code",
      "source": [
        "# Assign `devices` to a string containing device IDs, each device ID represented by alphanumeric characters\n",
        "\n",
        "devices = \"r262c36 67bv8fy 41j1u2e r151dm4 1270t3o 42dr56i r15xk9h 2j33krk 253be78 ac742a1 r15u9q5 zh86b2l ii286fq 9x482kt 6oa6m6u x3463ac i4l56nq g07h55q 081qc9t r159r1u\"\n",
        "\n",
        "# Assign `target_pattern` to a regular expression pattern for finding device IDs that start with \"r15\"\n",
        "\n",
        "target_pattern = \"r15\\w+\""
      ],
      "metadata": {
        "id": "tXL25fcj_TAx"
      },
      "execution_count": 7,
      "outputs": []
    },
    {
      "cell_type": "code",
      "source": [
        "# Assign `devices` to a string containing device IDs, each device ID represented by alphanumeric characters\n",
        "\n",
        "devices = \"r262c36 67bv8fy 41j1u2e r151dm4 1270t3o 42dr56i r15xk9h 2j33krk 253be78 ac742a1 r15u9q5 zh86b2l ii286fq 9x482kt 6oa6m6u x3463ac i4l56nq g07h55q 081qc9t r159r1u\"\n",
        "\n",
        "# Assign `target_pattern` to a regular expression pattern for finding device IDs that start with \"r15\"\n",
        "\n",
        "target_pattern = \"r15\\w+\"\n",
        "\n",
        "# Use `re.findall()` to find the device IDs that start with \"r15\" and display the results\n",
        "\n",
        "print(re.findall(target_pattern, devices))"
      ],
      "metadata": {
        "colab": {
          "base_uri": "https://localhost:8080/"
        },
        "id": "br0fk2U1_q5K",
        "outputId": "093f1245-2248-4d66-8a3b-01c67cd06f37"
      },
      "execution_count": 8,
      "outputs": [
        {
          "output_type": "stream",
          "name": "stdout",
          "text": [
            "['r151dm4', 'r15xk9h', 'r15u9q5', 'r159r1u']\n"
          ]
        }
      ]
    },
    {
      "cell_type": "code",
      "source": [
        "# Assign `log_file` to a string containing username, date, login time, and IP address for a series of login attempts\n",
        "\n",
        "log_file = \"eraab 2022-05-10 6:03:41 192.168.152.148 \\niuduike 2022-05-09 6:46:40 192.168.22.115 \\nsmartell 2022-05-09 19:30:32 192.168.190.178 \\narutley 2022-05-12 17:00:59 1923.1689.3.24 \\nrjensen 2022-05-11 0:59:26 192.168.213.128 \\naestrada 2022-05-09 19:28:12 1924.1680.27.57 \\nasundara 2022-05-11 18:38:07 192.168.96.200 \\ndkot 2022-05-12 10:52:00 1921.168.1283.75 \\nabernard 2022-05-12 23:38:46 19245.168.2345.49 \\ncjackson 2022-05-12 19:36:42 192.168.247.153 \\njclark 2022-05-10 10:48:02 192.168.174.117 \\nalevitsk 2022-05-08 12:09:10 192.16874.1390.176 \\njrafael 2022-05-10 22:40:01 192.168.148.115 \\nyappiah 2022-05-12 10:37:22 192.168.103.10654 \\ndaquino 2022-05-08 7:02:35 192.168.168.144\"\n",
        "\n",
        "# Display contents of `log_file`\n",
        "\n",
        "print(log_file)"
      ],
      "metadata": {
        "colab": {
          "base_uri": "https://localhost:8080/"
        },
        "id": "G0IBLz62_vdN",
        "outputId": "bb3355b7-940d-4b55-f91e-d431d33f58df"
      },
      "execution_count": 9,
      "outputs": [
        {
          "output_type": "stream",
          "name": "stdout",
          "text": [
            "eraab 2022-05-10 6:03:41 192.168.152.148 \n",
            "iuduike 2022-05-09 6:46:40 192.168.22.115 \n",
            "smartell 2022-05-09 19:30:32 192.168.190.178 \n",
            "arutley 2022-05-12 17:00:59 1923.1689.3.24 \n",
            "rjensen 2022-05-11 0:59:26 192.168.213.128 \n",
            "aestrada 2022-05-09 19:28:12 1924.1680.27.57 \n",
            "asundara 2022-05-11 18:38:07 192.168.96.200 \n",
            "dkot 2022-05-12 10:52:00 1921.168.1283.75 \n",
            "abernard 2022-05-12 23:38:46 19245.168.2345.49 \n",
            "cjackson 2022-05-12 19:36:42 192.168.247.153 \n",
            "jclark 2022-05-10 10:48:02 192.168.174.117 \n",
            "alevitsk 2022-05-08 12:09:10 192.16874.1390.176 \n",
            "jrafael 2022-05-10 22:40:01 192.168.148.115 \n",
            "yappiah 2022-05-12 10:37:22 192.168.103.10654 \n",
            "daquino 2022-05-08 7:02:35 192.168.168.144\n"
          ]
        }
      ]
    },
    {
      "cell_type": "code",
      "source": [
        "# Assign `log_file` to a string containing username, date, login time, and IP address for a series of login attempts\n",
        "\n",
        "log_file = \"eraab 2022-05-10 6:03:41 192.168.152.148 \\niuduike 2022-05-09 6:46:40 192.168.22.115 \\nsmartell 2022-05-09 19:30:32 192.168.190.178 \\narutley 2022-05-12 17:00:59 1923.1689.3.24 \\nrjensen 2022-05-11 0:59:26 192.168.213.128 \\naestrada 2022-05-09 19:28:12 1924.1680.27.57 \\nasundara 2022-05-11 18:38:07 192.168.96.200 \\ndkot 2022-05-12 10:52:00 1921.168.1283.75 \\nabernard 2022-05-12 23:38:46 19245.168.2345.49 \\ncjackson 2022-05-12 19:36:42 192.168.247.153 \\njclark 2022-05-10 10:48:02 192.168.174.117 \\nalevitsk 2022-05-08 12:09:10 192.16874.1390.176 \\njrafael 2022-05-10 22:40:01 192.168.148.115 \\nyappiah 2022-05-12 10:37:22 192.168.103.10654 \\ndaquino 2022-05-08 7:02:35 192.168.168.144\"\n",
        "\n",
        "# Assign `pattern` to a regular expression pattern that will match with IP addresses of the form xxx.xxx.xxx.xxx\n",
        "pattern = \"\\d\\d\\d\\.\\d\\d\\d\\.\\d\\d\\d\\.\\d\\d\\d\""
      ],
      "metadata": {
        "id": "dV39XTC__0-1"
      },
      "execution_count": 11,
      "outputs": []
    },
    {
      "cell_type": "code",
      "source": [
        "# Assign `log_file` to a string containing username, date, login time, and IP address for a series of login attempts\n",
        "\n",
        "log_file = \"eraab 2022-05-10 6:03:41 192.168.152.148 \\niuduike 2022-05-09 6:46:40 192.168.22.115 \\nsmartell 2022-05-09 19:30:32 192.168.190.178 \\narutley 2022-05-12 17:00:59 1923.1689.3.24 \\nrjensen 2022-05-11 0:59:26 192.168.213.128 \\naestrada 2022-05-09 19:28:12 1924.1680.27.57 \\nasundara 2022-05-11 18:38:07 192.168.96.200 \\ndkot 2022-05-12 10:52:00 1921.168.1283.75 \\nabernard 2022-05-12 23:38:46 19245.168.2345.49 \\ncjackson 2022-05-12 19:36:42 192.168.247.153 \\njclark 2022-05-10 10:48:02 192.168.174.117 \\nalevitsk 2022-05-08 12:09:10 192.16874.1390.176 \\njrafael 2022-05-10 22:40:01 192.168.148.115 \\nyappiah 2022-05-12 10:37:22 192.168.103.10654 \\ndaquino 2022-05-08 7:02:35 192.168.168.144\"\n",
        "\n",
        "# Assign `pattern` to a regular expression pattern that will match with IP addresses of the form xxx.xxx.xxx.xxx\n",
        "\n",
        "pattern = \"\\d\\d\\d\\.\\d\\d\\d\\.\\d\\d\\d\\.\\d\\d\\d\"\n",
        "\n",
        "# Use the `re.findall()` function on `pattern` and `log_file` to extract the IP addresses of the form xxx.xxx.xxx.xxx and display the results\n",
        "\n",
        "print(re.findall(pattern, log_file))"
      ],
      "metadata": {
        "colab": {
          "base_uri": "https://localhost:8080/"
        },
        "id": "5uJLvGnO_4_Z",
        "outputId": "4a68e0f6-3a52-47e5-9c43-6f6f556a469b"
      },
      "execution_count": 12,
      "outputs": [
        {
          "output_type": "stream",
          "name": "stdout",
          "text": [
            "['192.168.152.148', '192.168.190.178', '192.168.213.128', '192.168.247.153', '192.168.174.117', '192.168.148.115', '192.168.103.106', '192.168.168.144']\n"
          ]
        }
      ]
    },
    {
      "cell_type": "code",
      "source": [
        "# Assign `log_file` to a string containing username, date, login time, and IP address for a series of login attempts\n",
        "\n",
        "log_file = \"eraab 2022-05-10 6:03:41 192.168.152.148 \\niuduike 2022-05-09 6:46:40 192.168.22.115 \\nsmartell 2022-05-09 19:30:32 192.168.190.178 \\narutley 2022-05-12 17:00:59 1923.1689.3.24 \\nrjensen 2022-05-11 0:59:26 192.168.213.128 \\naestrada 2022-05-09 19:28:12 1924.1680.27.57 \\nasundara 2022-05-11 18:38:07 192.168.96.200 \\ndkot 2022-05-12 10:52:00 1921.168.1283.75 \\nabernard 2022-05-12 23:38:46 19245.168.2345.49 \\ncjackson 2022-05-12 19:36:42 192.168.247.153 \\njclark 2022-05-10 10:48:02 192.168.174.117 \\nalevitsk 2022-05-08 12:09:10 192.16874.1390.176 \\njrafael 2022-05-10 22:40:01 192.168.148.115 \\nyappiah 2022-05-12 10:37:22 192.168.103.10654 \\ndaquino 2022-05-08 7:02:35 192.168.168.144\"\n",
        "\n",
        "# Update `pattern` to a regular expression pattern that will match with IP addresses with any variation in the number of digits per segment\n",
        "\n",
        "pattern = \"\\d+\\.\\d+\\.\\d+\\.\\d+\"\n",
        "\n",
        "# Use the `re.findall()` function on `pattern` and `log_file` to extract the IP addresses of the updated form specifed above and display the results\n",
        "\n",
        "print(re.findall(pattern, log_file))"
      ],
      "metadata": {
        "colab": {
          "base_uri": "https://localhost:8080/"
        },
        "id": "mYA_70Ft__Dt",
        "outputId": "d4cd19ef-1022-4bff-be2a-f25973af110e"
      },
      "execution_count": 13,
      "outputs": [
        {
          "output_type": "stream",
          "name": "stdout",
          "text": [
            "['192.168.152.148', '192.168.22.115', '192.168.190.178', '1923.1689.3.24', '192.168.213.128', '1924.1680.27.57', '192.168.96.200', '1921.168.1283.75', '19245.168.2345.49', '192.168.247.153', '192.168.174.117', '192.16874.1390.176', '192.168.148.115', '192.168.103.10654', '192.168.168.144']\n"
          ]
        }
      ]
    },
    {
      "cell_type": "code",
      "source": [
        "# Assign `log_file` to a string containing username, date, login time, and IP address for a series of login attempts\n",
        "\n",
        "log_file = \"eraab 2022-05-10 6:03:41 192.168.152.148 \\niuduike 2022-05-09 6:46:40 192.168.22.115 \\nsmartell 2022-05-09 19:30:32 192.168.190.178 \\narutley 2022-05-12 17:00:59 1923.1689.3.24 \\nrjensen 2022-05-11 0:59:26 192.168.213.128 \\naestrada 2022-05-09 19:28:12 1924.1680.27.57 \\nasundara 2022-05-11 18:38:07 192.168.96.200 \\ndkot 2022-05-12 10:52:00 1921.168.1283.75 \\nabernard 2022-05-12 23:38:46 19245.168.2345.49 \\ncjackson 2022-05-12 19:36:42 192.168.247.153 \\njclark 2022-05-10 10:48:02 192.168.174.117 \\nalevitsk 2022-05-08 12:09:10 192.16874.1390.176 \\njrafael 2022-05-10 22:40:01 192.168.148.115 \\nyappiah 2022-05-12 10:37:22 192.168.103.10654 \\ndaquino 2022-05-08 7:02:35 192.168.168.144\"\n",
        "\n",
        "# Assign `pattern` to a regular expression that matches with all valid IP addresses and only those\n",
        "\n",
        "pattern = \"\\d{1,3}\\.\\d{1,3}\\.\\d{1,3}\\.\\d{1,3}\"\n",
        "\n",
        "# Use `re.findall()` on `pattern` and `log_file` and assign `valid_ip_addresses` to the output\n",
        "\n",
        "valid_ip_addresses = re.findall(pattern, log_file)\n",
        "\n",
        "# Display the contents of `valid_ip_addresses`\n",
        "\n",
        "print(valid_ip_addresses)"
      ],
      "metadata": {
        "colab": {
          "base_uri": "https://localhost:8080/"
        },
        "id": "JO6Q-bPYAFP6",
        "outputId": "7a3a51b9-1485-4dd1-b6c2-92f9b000fac4"
      },
      "execution_count": 14,
      "outputs": [
        {
          "output_type": "stream",
          "name": "stdout",
          "text": [
            "['192.168.152.148', '192.168.22.115', '192.168.190.178', '192.168.213.128', '192.168.96.200', '192.168.247.153', '192.168.174.117', '192.168.148.115', '192.168.103.106', '192.168.168.144']\n"
          ]
        }
      ]
    },
    {
      "cell_type": "code",
      "source": [
        "# Assign `flagged_addresses` to a list of IP addresses that have been previously flagged for unusual activity\n",
        "\n",
        "flagged_addresses = [\"192.168.190.178\", \"192.168.96.200\", \"192.168.174.117\", \"192.168.168.144\"]\n",
        "\n",
        "# Display the contents of `flagged_addresses`\n",
        "\n",
        "print(flagged_addresses)"
      ],
      "metadata": {
        "colab": {
          "base_uri": "https://localhost:8080/"
        },
        "id": "xaU9UCCaANaO",
        "outputId": "9e3525ca-a5d6-4a49-ec5c-918883b2bb96"
      },
      "execution_count": 15,
      "outputs": [
        {
          "output_type": "stream",
          "name": "stdout",
          "text": [
            "['192.168.190.178', '192.168.96.200', '192.168.174.117', '192.168.168.144']\n"
          ]
        }
      ]
    },
    {
      "cell_type": "code",
      "source": [
        "# Assign `log_file` to a string containing username, date, login time, and IP address for a series of login attempts\n",
        "\n",
        "log_file = \"eraab 2022-05-10 6:03:41 192.168.152.148 \\niuduike 2022-05-09 6:46:40 192.168.22.115 \\nsmartell 2022-05-09 19:30:32 192.168.190.178 \\narutley 2022-05-12 17:00:59 1923.1689.3.24 \\nrjensen 2022-05-11 0:59:26 192.168.213.128 \\naestrada 2022-05-09 19:28:12 1924.1680.27.57 \\nasundara 2022-05-11 18:38:07 192.168.96.200 \\ndkot 2022-05-12 10:52:00 1921.168.1283.75 \\nabernard 2022-05-12 23:38:46 19245.168.2345.49 \\ncjackson 2022-05-12 19:36:42 192.168.247.153 \\njclark 2022-05-10 10:48:02 192.168.174.117 \\nalevitsk 2022-05-08 12:09:10 192.16874.1390.176 \\njrafael 2022-05-10 22:40:01 192.168.148.115 \\nyappiah 2022-05-12 10:37:22 192.168.103.10654 \\ndaquino 2022-05-08 7:02:35 192.168.168.144\"\n",
        "\n",
        "# Assign `pattern` to a regular expression that matches with all valid IP addresses and only those\n",
        "\n",
        "pattern = \"\\d{1,3}\\.\\d{1,3}\\.\\d{1,3}\\.\\d{1,3}\"\n",
        "\n",
        "# Use `re.findall()` on `pattern` and `log_file` and assign `valid_ip_addresses` to the output\n",
        "\n",
        "valid_ip_addresses = re.findall(pattern, log_file)\n",
        "\n",
        "# Assign `flagged_addresses` to a list of IP addresses that have been previously flagged for unusual activity\n",
        "\n",
        "flagged_addresses = [\"192.168.190.178\", \"192.168.96.200\", \"192.168.174.117\", \"192.168.168.144\"]\n",
        "\n",
        "# Iterative statement begins here\n",
        "# Loop through `valid_ip_addresses` with `address` as the loop variable\n",
        "\n",
        "for address in valid_ip_addresses:\n",
        "\n",
        "    # Conditional begins here\n",
        "    # If `address` belongs to `flagged_addresses`, display \"The IP address ______ has been flagged for further analysis.\"\n",
        "\n",
        "    if address in flagged_addresses:\n",
        "        print(\"The IP address\", address, \"has been flagged for further analysis.\")\n",
        "\n",
        "    # Otherwise, display \"The IP address ______ does not require further analysis.\"\n",
        "\n",
        "    else:\n",
        "        print(\"The IP address\", address, \"does not require further analysis.\")"
      ],
      "metadata": {
        "colab": {
          "base_uri": "https://localhost:8080/"
        },
        "id": "VA5fPaqIAZVq",
        "outputId": "88e1a509-49a9-433b-8ea5-0599e6b9b1b5"
      },
      "execution_count": 16,
      "outputs": [
        {
          "output_type": "stream",
          "name": "stdout",
          "text": [
            "The IP address 192.168.152.148 does not require further analysis.\n",
            "The IP address 192.168.22.115 does not require further analysis.\n",
            "The IP address 192.168.190.178 has been flagged for further analysis.\n",
            "The IP address 192.168.213.128 does not require further analysis.\n",
            "The IP address 192.168.96.200 has been flagged for further analysis.\n",
            "The IP address 192.168.247.153 does not require further analysis.\n",
            "The IP address 192.168.174.117 has been flagged for further analysis.\n",
            "The IP address 192.168.148.115 does not require further analysis.\n",
            "The IP address 192.168.103.106 does not require further analysis.\n",
            "The IP address 192.168.168.144 has been flagged for further analysis.\n"
          ]
        }
      ]
    },
    {
      "cell_type": "code",
      "source": [],
      "metadata": {
        "id": "gfxWLhtqAfXy"
      },
      "execution_count": null,
      "outputs": []
    }
  ]
}