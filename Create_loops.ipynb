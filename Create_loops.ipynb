{
  "nbformat": 4,
  "nbformat_minor": 0,
  "metadata": {
    "colab": {
      "provenance": [],
      "authorship_tag": "ABX9TyOjmCRkyZy/zKcrun4+qDQE",
      "include_colab_link": true
    },
    "kernelspec": {
      "name": "python3",
      "display_name": "Python 3"
    },
    "language_info": {
      "name": "python"
    }
  },
  "cells": [
    {
      "cell_type": "markdown",
      "metadata": {
        "id": "view-in-github",
        "colab_type": "text"
      },
      "source": [
        "<a href=\"https://colab.research.google.com/github/Champagne007/Champagne007/blob/main/Create_loops.ipynb\" target=\"_parent\"><img src=\"https://colab.research.google.com/assets/colab-badge.svg\" alt=\"Open In Colab\"/></a>"
      ]
    },
    {
      "cell_type": "code",
      "execution_count": 1,
      "metadata": {
        "colab": {
          "base_uri": "https://localhost:8080/"
        },
        "id": "vngbDLY3mA-i",
        "outputId": "10963a49-84ab-4e17-fa46-8b3322553f0b"
      },
      "outputs": [
        {
          "output_type": "stream",
          "name": "stdout",
          "text": [
            "Connection could not be established.\n",
            "Connection could not be established.\n",
            "Connection could not be established.\n"
          ]
        }
      ],
      "source": [
        "# Iterative statement using `for`, `range()`, and a loop variable of `i`\n",
        "# Display \"Connection could not be established.\" three times\n",
        "\n",
        "for i in range(3):\n",
        "    print(\"Connection could not be established.\")"
      ]
    },
    {
      "cell_type": "code",
      "source": [
        "# Create a variable called `connection_attempts` that stores the number of times the user has tried to connect to the network\n",
        "\n",
        "connection_attempts = 3\n",
        "\n",
        "# Iterative statement using `for`, `range()`, a loop variable of `i`, and `connection_attempts`\n",
        "# Display \"Connection could not be established.\" as many times as specified by `connection_attempts`\n",
        "\n",
        "for i in range(connection_attempts):\n",
        "    print(\"Connection could not be established\")"
      ],
      "metadata": {
        "colab": {
          "base_uri": "https://localhost:8080/"
        },
        "id": "IsdF5BCysOU_",
        "outputId": "baff6655-694f-4aa5-c44e-3e229d01ab9b"
      },
      "execution_count": 2,
      "outputs": [
        {
          "output_type": "stream",
          "name": "stdout",
          "text": [
            "Connection could not be established\n",
            "Connection could not be established\n",
            "Connection could not be established\n"
          ]
        }
      ]
    },
    {
      "cell_type": "code",
      "source": [
        "# Assign `connection_attempts` to an initial value of 0, to keep track of how many times the user has tried to connect to the network\n",
        "\n",
        "connection_attempts = 0\n",
        "\n",
        "# Iterative statement using `while` and `connection_attempts`\n",
        "# Display \"Connection could not be established.\" every iteration, until connection_attempts reaches a specified number\n",
        "\n",
        "while connection_attempts < 3:\n",
        "    print(\"Connection could not be established\")\n",
        "\n",
        "    # Update `connection_attempts` (increment it by 1 at the end of each iteration)\n",
        "    connection_attempts = connection_attempts + 1\n"
      ],
      "metadata": {
        "colab": {
          "base_uri": "https://localhost:8080/"
        },
        "id": "MnYBeCrVsU-5",
        "outputId": "ccdbfbea-8979-402f-9865-6000149cf3ed"
      },
      "execution_count": 3,
      "outputs": [
        {
          "output_type": "stream",
          "name": "stdout",
          "text": [
            "Connection could not be established\n",
            "Connection could not be established\n",
            "Connection could not be established\n"
          ]
        }
      ]
    },
    {
      "cell_type": "code",
      "source": [
        "# Assign `ip_addresses` to a list of IP addresses from which users have tried to log in\n",
        "\n",
        "ip_addresses = [\"192.168.142.245\", \"192.168.109.50\", \"192.168.86.232\", \"192.168.131.147\",\n",
        "                \"192.168.205.12\", \"192.168.200.48\"]\n",
        "\n",
        "# For loop that displays the elements of `ip_addresses` one at a time\n",
        "\n",
        "for i in ip_addresses:\n",
        "    print(i)"
      ],
      "metadata": {
        "colab": {
          "base_uri": "https://localhost:8080/"
        },
        "id": "kComvTQrsfIg",
        "outputId": "ad04a2ae-8fc2-4628-9f05-048cf4ef4ad9"
      },
      "execution_count": 4,
      "outputs": [
        {
          "output_type": "stream",
          "name": "stdout",
          "text": [
            "192.168.142.245\n",
            "192.168.109.50\n",
            "192.168.86.232\n",
            "192.168.131.147\n",
            "192.168.205.12\n",
            "192.168.200.48\n"
          ]
        }
      ]
    },
    {
      "cell_type": "code",
      "source": [
        "# Assign `allow_list` to a list of IP addresses that are allowed to log in\n",
        "\n",
        "allow_list = [\"192.168.243.140\", \"192.168.205.12\", \"192.168.151.162\", \"192.168.178.71\",\n",
        "              \"192.168.86.232\", \"192.168.3.24\", \"192.168.170.243\", \"192.168.119.173\"]\n",
        "\n",
        "# Assign `ip_addresses` to a list of IP addresses from which users have tried to log in\n",
        "\n",
        "ip_addresses = [\"192.168.142.245\", \"192.168.109.50\", \"192.168.86.232\", \"192.168.131.147\",\n",
        "                \"192.168.205.12\", \"192.168.200.48\"]\n",
        "\n",
        "# For each IP address in the list of IP addresses from which users have tried to log in,\n",
        "# If it is among the allowed addresses, then display “IP address is allowed”\n",
        "# Otherwise, display “IP address is not allowed”\n",
        "\n",
        "for i in ip_addresses:\n",
        "\tif i in allow_list:\n",
        "\t\tprint(\"IP address is allowed\")\n",
        "\telse:\n",
        "\t\tprint(\"IP address is not allowed\")"
      ],
      "metadata": {
        "colab": {
          "base_uri": "https://localhost:8080/"
        },
        "id": "tWdDnCdBslIB",
        "outputId": "ca6ccb0d-e6ed-4263-aab5-df74c862bc9e"
      },
      "execution_count": 5,
      "outputs": [
        {
          "output_type": "stream",
          "name": "stdout",
          "text": [
            "IP address is not allowed\n",
            "IP address is not allowed\n",
            "IP address is allowed\n",
            "IP address is not allowed\n",
            "IP address is allowed\n",
            "IP address is not allowed\n"
          ]
        }
      ]
    },
    {
      "cell_type": "code",
      "source": [
        "# Assign `allow_list` to a list of IP addresses that are allowed to log in\n",
        "\n",
        "allow_list = [\"192.168.243.140\", \"192.168.205.12\", \"192.168.151.162\", \"192.168.178.71\",\n",
        "              \"192.168.86.232\", \"192.168.3.24\", \"192.168.170.243\", \"192.168.119.173\"]\n",
        "\n",
        "# Assign `ip_addresses` to a list of IP addresses from which users have tried to log in\n",
        "\n",
        "ip_addresses = [\"192.168.142.245\", \"192.168.109.50\", \"192.168.86.232\", \"192.168.131.147\",\n",
        "                \"192.168.205.12\", \"192.168.200.48\"]\n",
        "\n",
        "# For each IP address in the list of IP addresses from which users have tried to log in,\n",
        "# If it is among the allowed addresses, then display “IP address is allowed”\n",
        "# Otherwise, display “IP address is not allowed”\n",
        "\n",
        "for i in ip_addresses:\n",
        "\tif i in allow_list:\n",
        "\t\tprint(\"IP address is allowed\")\n",
        "\telse:\n",
        "\t\tprint(\"IP address is not allowed. Further investigation of login activity required\")\n",
        "\t\tbreak"
      ],
      "metadata": {
        "colab": {
          "base_uri": "https://localhost:8080/"
        },
        "id": "6KCT-3mfsr0i",
        "outputId": "78f8ebc5-fa7c-4014-8609-e7c8c4fb40ab"
      },
      "execution_count": 7,
      "outputs": [
        {
          "output_type": "stream",
          "name": "stdout",
          "text": [
            "IP address is not allowed. Further investigation of login activity required\n"
          ]
        }
      ]
    },
    {
      "cell_type": "code",
      "source": [
        "# Assign the loop variable `i` to an initial value of 5000\n",
        "\n",
        "i = 5000\n",
        "\n",
        "# While loop that generates unique employee IDs for the Sales department by iterating through numbers\n",
        "# and displays each ID created\n",
        "\n",
        "while i <= 5150:\n",
        "    print(i)\n",
        "    i = i + 5"
      ],
      "metadata": {
        "colab": {
          "base_uri": "https://localhost:8080/"
        },
        "id": "XKwuBecysyXh",
        "outputId": "a0008141-5a49-4243-edae-106e26ade29e"
      },
      "execution_count": 8,
      "outputs": [
        {
          "output_type": "stream",
          "name": "stdout",
          "text": [
            "5000\n",
            "5005\n",
            "5010\n",
            "5015\n",
            "5020\n",
            "5025\n",
            "5030\n",
            "5035\n",
            "5040\n",
            "5045\n",
            "5050\n",
            "5055\n",
            "5060\n",
            "5065\n",
            "5070\n",
            "5075\n",
            "5080\n",
            "5085\n",
            "5090\n",
            "5095\n",
            "5100\n",
            "5105\n",
            "5110\n",
            "5115\n",
            "5120\n",
            "5125\n",
            "5130\n",
            "5135\n",
            "5140\n",
            "5145\n",
            "5150\n"
          ]
        }
      ]
    },
    {
      "cell_type": "code",
      "source": [
        "# Assign the loop variable `i` to an initial value of 5000\n",
        "\n",
        "i = 5000\n",
        "\n",
        "# While loop that generates unique employee IDs for the Sales department by iterating through numbers\n",
        "# and displays each ID created\n",
        "# This loop displays \"Only 10 valid employee ids remaining\" once `i` reaches 5100\n",
        "\n",
        "while i <= 5150:\n",
        "    print(i)\n",
        "    if i == 5100:\n",
        "        print(\"Only 10 valid employee ids remaining\")\n",
        "    i = i + 5"
      ],
      "metadata": {
        "colab": {
          "base_uri": "https://localhost:8080/"
        },
        "id": "oNWs5mhSs54a",
        "outputId": "bb4c4308-cfea-4eca-b5fa-93e8f9f97821"
      },
      "execution_count": 9,
      "outputs": [
        {
          "output_type": "stream",
          "name": "stdout",
          "text": [
            "5000\n",
            "5005\n",
            "5010\n",
            "5015\n",
            "5020\n",
            "5025\n",
            "5030\n",
            "5035\n",
            "5040\n",
            "5045\n",
            "5050\n",
            "5055\n",
            "5060\n",
            "5065\n",
            "5070\n",
            "5075\n",
            "5080\n",
            "5085\n",
            "5090\n",
            "5095\n",
            "5100\n",
            "Only 10 valid employee ids remaining\n",
            "5105\n",
            "5110\n",
            "5115\n",
            "5120\n",
            "5125\n",
            "5130\n",
            "5135\n",
            "5140\n",
            "5145\n",
            "5150\n"
          ]
        }
      ]
    }
  ]
}