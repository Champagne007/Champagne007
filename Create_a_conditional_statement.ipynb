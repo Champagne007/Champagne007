{
  "nbformat": 4,
  "nbformat_minor": 0,
  "metadata": {
    "colab": {
      "provenance": [],
      "authorship_tag": "ABX9TyNIiVCWS1WaClsNm1B3vGQx",
      "include_colab_link": true
    },
    "kernelspec": {
      "name": "python3",
      "display_name": "Python 3"
    },
    "language_info": {
      "name": "python"
    }
  },
  "cells": [
    {
      "cell_type": "markdown",
      "metadata": {
        "id": "view-in-github",
        "colab_type": "text"
      },
      "source": [
        "<a href=\"https://colab.research.google.com/github/Champagne007/Champagne007/blob/main/Create_a_conditional_statement.ipynb\" target=\"_parent\"><img src=\"https://colab.research.google.com/assets/colab-badge.svg\" alt=\"Open In Colab\"/></a>"
      ]
    },
    {
      "cell_type": "code",
      "execution_count": 1,
      "metadata": {
        "colab": {
          "base_uri": "https://localhost:8080/"
        },
        "id": "sxZSEuFd-VL-",
        "outputId": "51847520-53f5-4424-de75-57b64d004cb2"
      },
      "outputs": [
        {
          "output_type": "stream",
          "name": "stdout",
          "text": [
            "no update needed\n"
          ]
        }
      ],
      "source": [
        "# Assign a variable named `system` to a specific operating system, represented as a string\n",
        "# This variable indicates which operating system is running\n",
        "\n",
        "system = \"OS 2\"\n",
        "\n",
        "# If OS 2 is running, then display a \"no update needed\" message\n",
        "\n",
        "if system == \"OS 2\":\n",
        "    print(\"no update needed\")\n",
        ""
      ]
    },
    {
      "cell_type": "code",
      "source": [
        "# Assign `system` to a specific operating system\n",
        "# This variable represents which operating system is running\n",
        "# Feel free to run this cell multiple times; each time try assigning `system` to different values (\"OS 1\", \"OS 2\", \"OS 3\") and observe the result\n",
        "\n",
        "system = \"OS 1\"\n",
        "\n",
        "# If OS 2 is running, then display a \"no update needed\" message\n",
        "\n",
        "if system == \"OS 2\":\n",
        "    print(\"no update needed\")\n",
        "\n",
        ""
      ],
      "metadata": {
        "id": "dL0eeWmmBjAt"
      },
      "execution_count": 4,
      "outputs": []
    },
    {
      "cell_type": "code",
      "source": [
        "# Assign `system` to a specific operating system\n",
        "# This variable represents which operating system is running\n",
        "\n",
        "system = \"OS 3\"\n",
        "\n",
        "# If OS 2 is running, then display a \"no update needed\" message\n",
        "# Otherwise, display a \"update needed\" message\n",
        "\n",
        "if system == \"OS 2\":\n",
        "    print(\"no update needed\")\n",
        "else:\n",
        "    print(\"update needed\")\n",
        ""
      ],
      "metadata": {
        "colab": {
          "base_uri": "https://localhost:8080/"
        },
        "id": "Fe24PxIoBqWE",
        "outputId": "9b6dc8cf-01d1-48d0-d70a-e964ea949008"
      },
      "execution_count": 5,
      "outputs": [
        {
          "output_type": "stream",
          "name": "stdout",
          "text": [
            "update needed\n"
          ]
        }
      ]
    },
    {
      "cell_type": "code",
      "source": [
        "# Assign `system` to a specific operating system\n",
        "# This variable represents which operating system is running\n",
        "\n",
        "system = \"OS 4\"\n",
        "\n",
        "# If OS 2 is running, then display a \"no update needed\" message\n",
        "# Otherwise if OS 1 is running, display a \"update needed\" message\n",
        "# Otherwise if OS 3 is running, display a \"update needed\" message\n",
        "\n",
        "if system == \"OS 2\":\n",
        "    print(\"no update needed\")\n",
        "elif system == \"OS 1\":\n",
        "    print(\"update needed\")\n",
        "elif system == \"OS 3\":\n",
        "    print(\"update needed\")\n",
        ""
      ],
      "metadata": {
        "id": "WFUFR6JbBuwt"
      },
      "execution_count": 6,
      "outputs": []
    },
    {
      "cell_type": "code",
      "source": [
        "# Assign `system` to a specific operating system\n",
        "# This variable represents which operating system is running\n",
        "\n",
        "system = \"OS 4\"\n",
        "\n",
        "# If OS 2 is running, then display a \"no update needed\" message\n",
        "# Otherwise if either OS 1 or OS 3 is running, display a \"update needed\" message\n",
        "\n",
        "if system == \"OS 2\":\n",
        "    print(\"no update needed\")\n",
        "elif system == \"OS 1\" or system == \"OS 3\":\n",
        "    print(\"update needed\")\n",
        ""
      ],
      "metadata": {
        "id": "bFqJuABDByRe"
      },
      "execution_count": 7,
      "outputs": []
    },
    {
      "cell_type": "code",
      "source": [
        "# Assign `approved_user1` and `approved_user2` to usernames of approved users\n",
        "\n",
        "approved_user1 = \"elarson\"\n",
        "approved_user2 = \"bmoreno\"\n",
        "\n",
        "# Assign `username` to the username of a specific user trying to log in\n",
        "\n",
        "username = \"bmoreno\"\n",
        "\n",
        "# If the user trying to log in is among the approved users, then display a message that they are approved to access this device\n",
        "# Otherwise, display a message that they do not have access to this device\n",
        "\n",
        "if username == approved_user1 or username == approved_user2:\n",
        "    print(\"This user has access to this device.\")\n",
        "else:\n",
        "    print(\"This user does not have access to this device.\")\n",
        ""
      ],
      "metadata": {
        "colab": {
          "base_uri": "https://localhost:8080/"
        },
        "id": "8zzugJ3OCA9g",
        "outputId": "5e1b3800-32fb-4316-bf58-6994eb7a0949"
      },
      "execution_count": 8,
      "outputs": [
        {
          "output_type": "stream",
          "name": "stdout",
          "text": [
            "This user has access to this device.\n"
          ]
        }
      ]
    },
    {
      "cell_type": "code",
      "source": [
        "# Assign `approved_list` to a list of approved usernames\n",
        "\n",
        "approved_list = [\"elarson\", \"bmoreno\", \"tshah\", \"sgilmore\", \"eraab\"]\n",
        "\n",
        "# Assign `username` to the username of a specific user trying to log in\n",
        "\n",
        "username = \"jhill\"\n",
        "\n",
        "# If the user trying to log in is among the approved users, then display a message that they are approved to access this device\n",
        "# Otherwise, display a message that they do not have access to this device\n",
        "\n",
        "if username in approved_list:\n",
        "    print(\"This user has access to this device.\")\n",
        "else:\n",
        "    print(\"This user does not have access to this device.\")\n",
        ""
      ],
      "metadata": {
        "colab": {
          "base_uri": "https://localhost:8080/"
        },
        "id": "DPlMXdw_CH6w",
        "outputId": "ae5c5aea-01bb-482f-f88d-8f2c689b114d"
      },
      "execution_count": 9,
      "outputs": [
        {
          "output_type": "stream",
          "name": "stdout",
          "text": [
            "This user does not have access to this device.\n"
          ]
        }
      ]
    },
    {
      "cell_type": "code",
      "source": [
        "# Assign `organization_hours` to a Boolean value that represents whether the user is trying to log in during organization hours\n",
        "\n",
        "organization_hours = True\n",
        "\n",
        "# If the entered `organization_hours` has a value of True, then display \"Login attempt made during organization hours.\"\n",
        "# Otherwise, display \"Login attempt made outside of organization hours.\"\n",
        "\n",
        "if organization_hours == True:\n",
        "    print(\"Login attempt made during organization hours.\")\n",
        "else:\n",
        "    print(\"Login attempt made outside of organization hours.\")\n",
        ""
      ],
      "metadata": {
        "colab": {
          "base_uri": "https://localhost:8080/"
        },
        "id": "sUfwnKKKCODf",
        "outputId": "15554ca4-7ec2-4151-a028-1276f28da839"
      },
      "execution_count": 10,
      "outputs": [
        {
          "output_type": "stream",
          "name": "stdout",
          "text": [
            "Login attempt made during organization hours.\n"
          ]
        }
      ]
    },
    {
      "cell_type": "code",
      "source": [
        "# Assign `approved_list` to a list of approved usernames\n",
        "\n",
        "approved_list = [\"elarson\", \"bmoreno\", \"tshah\", \"sgilmore\", \"eraab\"]\n",
        "\n",
        "# Assign `username` to the username of a specific user trying to log in\n",
        "\n",
        "username = \"bmoreno\"\n",
        "\n",
        "# If the user trying to log in is among the approved users, then display a message that they are approved to access this device\n",
        "# Otherwise, display a message that they do not have access to this device\n",
        "\n",
        "if username in approved_list:\n",
        "    print(\"This user has access to this device.\")\n",
        "\n",
        "else:\n",
        "    print(\"This user does not have access to this device.\")\n",
        "\n",
        "# Assign `organization_hours` to a Boolean value that represents whether the user is trying to log in during organization hours\n",
        "\n",
        "organization_hours = True\n",
        "\n",
        "# If the entered `organization_hours` has a value of True, then display \"Login attempt made during organization hours.\"\n",
        "# Otherwise, display \"Login attempt made outside of organization hours.\"\n",
        "\n",
        "if organization_hours == True:\n",
        "    print(\"Login attempt made during organization hours.\")\n",
        "else:\n",
        "    print(\"Login attempt made outside of organization hours.\")\n",
        ""
      ],
      "metadata": {
        "colab": {
          "base_uri": "https://localhost:8080/"
        },
        "id": "hCgYId-3CTYH",
        "outputId": "2cc82f26-83a7-4329-bfe5-c031bec90c37"
      },
      "execution_count": 11,
      "outputs": [
        {
          "output_type": "stream",
          "name": "stdout",
          "text": [
            "This user has access to this device.\n",
            "Login attempt made during organization hours.\n"
          ]
        }
      ]
    },
    {
      "cell_type": "code",
      "source": [
        "# Assign `approved_list` to a list of approved usernames\n",
        "\n",
        "approved_list = [\"elarson\", \"bmoreno\", \"tshah\", \"sgilmore\", \"eraab\"]\n",
        "\n",
        "# Assign `username` to the username of a specific user trying to log in\n",
        "\n",
        "username = \"bmoreno\"\n",
        "\n",
        "# Assign `organization_hours` to a Boolean value that represents whether the user is trying to log in during organization hours\n",
        "\n",
        "organization_hours = True\n",
        "\n",
        "# If the user is among the approved users and they are logging in during organization hours, then convey that the user is logged in\n",
        "# Otherwise, convey that either the username is not approved or the login attempt was made outside of organization hours\n",
        "\n",
        "if username in approved_list and organization_hours == True:\n",
        "    print(\"Login attempt made by an approved user during organization hours.\")\n",
        "else:\n",
        "    print(\"Username not approved or login attempt made outside of organization hours.\")\n",
        ""
      ],
      "metadata": {
        "colab": {
          "base_uri": "https://localhost:8080/"
        },
        "id": "5gsrz3v-CdMR",
        "outputId": "18e7558a-51af-411e-a367-8488277a2aa0"
      },
      "execution_count": 12,
      "outputs": [
        {
          "output_type": "stream",
          "name": "stdout",
          "text": [
            "Login attempt made by an approved user during organization hours.\n"
          ]
        }
      ]
    }
  ]
}