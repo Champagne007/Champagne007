{
  "nbformat": 4,
  "nbformat_minor": 0,
  "metadata": {
    "colab": {
      "provenance": [],
      "authorship_tag": "ABX9TyPofIy0/LqnlmSNwWcVnFdw",
      "include_colab_link": true
    },
    "kernelspec": {
      "name": "python3",
      "display_name": "Python 3"
    },
    "language_info": {
      "name": "python"
    }
  },
  "cells": [
    {
      "cell_type": "markdown",
      "metadata": {
        "id": "view-in-github",
        "colab_type": "text"
      },
      "source": [
        "<a href=\"https://colab.research.google.com/github/Champagne007/Champagne007/blob/main/Develop_an_algorithm.ipynb\" target=\"_parent\"><img src=\"https://colab.research.google.com/assets/colab-badge.svg\" alt=\"Open In Colab\"/></a>"
      ]
    },
    {
      "cell_type": "code",
      "execution_count": 1,
      "metadata": {
        "colab": {
          "base_uri": "https://localhost:8080/"
        },
        "id": "En5zKG7DfWza",
        "outputId": "4b4babf6-b573-490b-8de9-b52987759c1a"
      },
      "outputs": [
        {
          "output_type": "stream",
          "name": "stdout",
          "text": [
            "elarson\n",
            "8rp2k75\n"
          ]
        }
      ],
      "source": [
        "# Assign `approved_users` to a list of approved usernames\n",
        "\n",
        "approved_users = [\"elarson\", \"bmoreno\", \"tshah\", \"sgilmore\", \"eraab\"]\n",
        "\n",
        "# Assign `approved_devices` to a list of device IDs that correspond to the usernames in `approved_users`\n",
        "\n",
        "approved_devices = [\"8rp2k75\", \"hl0s5o1\", \"2ye3lzg\", \"4n482ts\", \"a307vir\"]\n",
        "\n",
        "# Display the element at the specified index in `approved_users`\n",
        "\n",
        "print(approved_users[0])\n",
        "\n",
        "# Display the element at the specified index in `approved_devices`\n",
        "\n",
        "print(approved_devices[0])\n"
      ]
    },
    {
      "cell_type": "code",
      "source": [
        "# Assign `approved_users` to a list of approved usernames\n",
        "\n",
        "approved_users = [\"elarson\", \"bmoreno\", \"tshah\", \"sgilmore\", \"eraab\"]\n",
        "\n",
        "# Assign `approved_devices` to a list of device IDs that correspond to the usernames in `approved_users`\n",
        "\n",
        "approved_devices = [\"8rp2k75\", \"hl0s5o1\", \"2ye3lzg\", \"4n482ts\", \"a307vir\"]\n",
        "\n",
        "# Assign `new_user` to the username of a new approved user\n",
        "\n",
        "new_user = \"gesparza\"\n",
        "\n",
        "# Assign `new_device` to the device ID of the new approved user\n",
        "\n",
        "new_device = \"3rcv4w6\"\n",
        "\n",
        "# Add that user's username and device ID to `approved_users` and `approved_devices` respectively\n",
        "\n",
        "approved_users.append(new_user)\n",
        "approved_devices.append(new_device)\n",
        "\n",
        "# Display the contents of `approved_users`\n",
        "\n",
        "print(approved_users)\n",
        "\n",
        "# Diplay the contents of `approved_devices`\n",
        "\n",
        "print(approved_devices)\n"
      ],
      "metadata": {
        "colab": {
          "base_uri": "https://localhost:8080/"
        },
        "id": "uVTJdXT0hqqI",
        "outputId": "45b069ab-1c1b-40f0-b9a7-b11d1db3220d"
      },
      "execution_count": 2,
      "outputs": [
        {
          "output_type": "stream",
          "name": "stdout",
          "text": [
            "['elarson', 'bmoreno', 'tshah', 'sgilmore', 'eraab', 'gesparza']\n",
            "['8rp2k75', 'hl0s5o1', '2ye3lzg', '4n482ts', 'a307vir', '3rcv4w6']\n"
          ]
        }
      ]
    },
    {
      "cell_type": "code",
      "source": [
        "# Assign `approved_users` to a list of approved usernames\n",
        "\n",
        "approved_users = [\"elarson\", \"bmoreno\", \"tshah\", \"sgilmore\", \"eraab\", \"gesparza\"]\n",
        "\n",
        "# Assign `approved_devices` to a list of device IDs that correspond to the usernames in `approved_users`\n",
        "\n",
        "approved_devices = [\"8rp2k75\", \"hl0s5o1\", \"2ye3lzg\", \"4n482ts\", \"a307vir\", \"3rcv4w6\"]\n",
        "\n",
        "# Assign `removed_user` to the username of the employee who has left the team\n",
        "\n",
        "removed_user = \"tshah\"\n",
        "\n",
        "# Assign `removed_device` to the device ID of the employee who has left the team\n",
        "\n",
        "removed_device = \"2ye3lzg\"\n",
        "\n",
        "# Remove that employee's username and device ID from `approved_users` and `approved_devices` respectively\n",
        "\n",
        "approved_users.remove(removed_user)\n",
        "approved_devices.remove(removed_device)\n",
        "\n",
        "# Display `approved_users`\n",
        "\n",
        "print(approved_users)\n",
        "\n",
        "# Diplay `approved_devices`\n",
        "\n",
        "print(approved_devices)\n"
      ],
      "metadata": {
        "colab": {
          "base_uri": "https://localhost:8080/"
        },
        "id": "EpG4wlIahvmj",
        "outputId": "fdb193bf-23bc-4b0f-dd01-82fd100738f3"
      },
      "execution_count": 3,
      "outputs": [
        {
          "output_type": "stream",
          "name": "stdout",
          "text": [
            "['elarson', 'bmoreno', 'sgilmore', 'eraab', 'gesparza']\n",
            "['8rp2k75', 'hl0s5o1', '4n482ts', 'a307vir', '3rcv4w6']\n"
          ]
        }
      ]
    },
    {
      "cell_type": "code",
      "source": [
        "# Assign `approved_users` to a list of approved usernames\n",
        "\n",
        "approved_users = [\"elarson\", \"bmoreno\", \"sgilmore\", \"eraab\", \"gesparza\"]\n",
        "\n",
        "# Assign `approved_devices` to a list of device IDs that correspond to the usernames in `approved_users`\n",
        "\n",
        "approved_devices = [\"8rp2k75\", \"hl0s5o1\", \"4n482ts\", \"a307vir\", \"3rcv4w6\"]\n",
        "\n",
        "# Assign `username` to a username\n",
        "\n",
        "username = \"sgilmore\"\n",
        "\n",
        "# Conditional statement\n",
        "# If `username` belongs to `approved_users`, then display \"The user ______ is approved to access the system.\"\n",
        "# Otherwise display \"The user ______ is not approved to access the system.\"\n",
        "if username in approved_users:\n",
        "    print(\"The username\", username, \"is approved to access the system.\")\n",
        "else:\n",
        "    print(\"The username\", username, \"is not approved to access the system.\")\n",
        ""
      ],
      "metadata": {
        "colab": {
          "base_uri": "https://localhost:8080/"
        },
        "id": "I2pbeAL7hxwg",
        "outputId": "19266cd9-cabc-4e49-b45a-3a2b97b65ee5"
      },
      "execution_count": 4,
      "outputs": [
        {
          "output_type": "stream",
          "name": "stdout",
          "text": [
            "The username sgilmore is approved to access the system.\n"
          ]
        }
      ]
    },
    {
      "cell_type": "code",
      "source": [
        "# Assign `approved_users` to a list of approved usernames\n",
        "\n",
        "approved_users = [\"elarson\", \"bmoreno\", \"sgilmore\", \"eraab\", \"gesparza\"]\n",
        "\n",
        "# Assign `approved_devices` to a list of device IDs that correspond to the usernames in `approved_users`\n",
        "\n",
        "approved_devices = [\"8rp2k75\", \"hl0s5o1\", \"4n482ts\", \"a307vir\", \"3rcv4w6\"]\n",
        "\n",
        "# Assign `username` to a username\n",
        "\n",
        "username = \"sgilmore\"\n",
        "\n",
        "# Assign `ind` to the index of `username` in `approved_users`\n",
        "\n",
        "ind = approved_users.index(username)\n",
        "\n",
        "# Display the value of `ind`\n",
        "\n",
        "print(ind)\n"
      ],
      "metadata": {
        "colab": {
          "base_uri": "https://localhost:8080/"
        },
        "id": "euZ_7zn8h3SX",
        "outputId": "5816d7d8-25c5-4d98-9dba-34ff7858a831"
      },
      "execution_count": 5,
      "outputs": [
        {
          "output_type": "stream",
          "name": "stdout",
          "text": [
            "2\n"
          ]
        }
      ]
    },
    {
      "cell_type": "code",
      "source": [
        "# Assign `approved_users` to a list of approved usernames\n",
        "\n",
        "approved_users = [\"elarson\", \"bmoreno\", \"sgilmore\", \"eraab\", \"gesparza\"]\n",
        "\n",
        "# Assign `approved_devices` to a list of device IDs that correspond to the usernames in `approved_users`\n",
        "\n",
        "approved_devices = [\"8rp2k75\", \"hl0s5o1\", \"4n482ts\", \"a307vir\", \"3rcv4w6\"]\n",
        "\n",
        "# Assign `username` to a username\n",
        "\n",
        "username = \"sgilmore\"\n",
        "\n",
        "# Assign `ind` to the index of `username` in `approved_users`\n",
        "\n",
        "ind = approved_users.index(username)\n",
        "\n",
        "# Display the device ID at the index that matches the value of `ind` in `approved_devices`\n",
        "\n",
        "print(approved_devices[ind])\n"
      ],
      "metadata": {
        "colab": {
          "base_uri": "https://localhost:8080/"
        },
        "id": "q720cdbfh8zs",
        "outputId": "b598b3d6-41c1-4225-8e1d-b8f5fb113585"
      },
      "execution_count": 6,
      "outputs": [
        {
          "output_type": "stream",
          "name": "stdout",
          "text": [
            "4n482ts\n"
          ]
        }
      ]
    },
    {
      "cell_type": "code",
      "source": [
        "# Assign `approved_users` to a list of approved usernames\n",
        "\n",
        "approved_users = [\"elarson\", \"bmoreno\", \"sgilmore\", \"eraab\", \"gesparza\"]\n",
        "\n",
        "# Assign `approved_devices` to a list of device IDs that correspond to the usernames in `approved_users`\n",
        "\n",
        "approved_devices = [\"8rp2k75\", \"hl0s5o1\", \"4n482ts\", \"a307vir\", \"3rcv4w6\"]\n",
        "\n",
        "# Assign `username` to a username\n",
        "\n",
        "username = \"sgilmore\"\n",
        "\n",
        "# Assign `device_id` to a device ID\n",
        "\n",
        "device_id = \"4n482ts\"\n",
        "\n",
        "# Assign `ind` to the index of `username` in `approved_users`\n",
        "\n",
        "ind = approved_users.index(username)\n",
        "\n",
        "# Conditional statement\n",
        "# If `username` belongs to `approved_users`, and if the device ID at `ind` in `approved_devices` matches `device_id`,\n",
        "# then display a message that the username is approved,\n",
        "# followed by a message that the user has the correct device\n",
        "\n",
        "if username in approved_users and device_id == approved_devices[ind]:\n",
        "    print(\"The username\", username, \"is approved to access the system.\")\n",
        "    print(device_id, \"is the assigned device for\", username)\n",
        ""
      ],
      "metadata": {
        "colab": {
          "base_uri": "https://localhost:8080/"
        },
        "id": "OOxaqwb7iDOh",
        "outputId": "062e1902-4e77-48e0-b3f4-504f0c2c98ab"
      },
      "execution_count": 7,
      "outputs": [
        {
          "output_type": "stream",
          "name": "stdout",
          "text": [
            "The username sgilmore is approved to access the system.\n",
            "4n482ts is the assigned device for sgilmore\n"
          ]
        }
      ]
    },
    {
      "cell_type": "code",
      "source": [
        "# Assign `approved_users` to a list of approved usernames\n",
        "\n",
        "approved_users = [\"elarson\", \"bmoreno\", \"sgilmore\", \"eraab\", \"gesparza\"]\n",
        "\n",
        "# Assign `approved_devices` to a list of device IDs that correspond to the usernames in `approved_users`\n",
        "\n",
        "approved_devices = [\"8rp2k75\", \"hl0s5o1\", \"4n482ts\", \"a307vir\", \"3rcv4w6\"]\n",
        "\n",
        "# Assign `username` to a username\n",
        "\n",
        "username = \"sgilmore\"\n",
        "\n",
        "# Assign `device_id` to a device ID\n",
        "\n",
        "device_id = \"4n482ts\"\n",
        "\n",
        "# Assign `ind` to the index of `username` in `approved_users`\n",
        "\n",
        "ind = approved_users.index(username)\n",
        "\n",
        "# If statement\n",
        "# If `username` belongs to `approved_users`, and if the element at `ind` in `approved_devices` matches `device_id`,\n",
        "# then display a message that the username is approved,\n",
        "# followed by a message that the user has the correct device\n",
        "\n",
        "if username in approved_users and device_id == approved_devices[ind]:\n",
        "    print(\"The user\", username, \"is approved to access the system.\")\n",
        "    print(device_id, \"is the assigned device for\", username)\n",
        "\n",
        "# Elif statement\n",
        "# Handles the case when `username` belongs to `approved_users` but element at `ind` in `approved_devices` does not match `device_id`,\n",
        "# and displays two messages accordingly\n",
        "\n",
        "elif username in approved_users and device_id != approved_devices[ind]:\n",
        "    print(\"The user\", username, \"is approved to access the system, but\", device_id, \"is not their assigned device.\")"
      ],
      "metadata": {
        "colab": {
          "base_uri": "https://localhost:8080/"
        },
        "id": "ZliMMXeZinvt",
        "outputId": "314ea8c4-f837-4fe7-f74f-193734a256ff"
      },
      "execution_count": 10,
      "outputs": [
        {
          "output_type": "stream",
          "name": "stdout",
          "text": [
            "The user sgilmore is approved to access the system.\n",
            "4n482ts is the assigned device for sgilmore\n"
          ]
        }
      ]
    },
    {
      "cell_type": "code",
      "source": [
        "# Assign `approved_users` to a list of approved usernames\n",
        "\n",
        "approved_users = [\"elarson\", \"bmoreno\", \"sgilmore\", \"eraab\", \"gesparza\"]\n",
        "\n",
        "# Assign `approved_devices` to a list of device IDs that correspond to the usernames in `approved_users`\n",
        "\n",
        "approved_devices = [\"8rp2k75\", \"hl0s5o1\", \"4n482ts\", \"a307vir\", \"3rcv4w6\"]\n",
        "\n",
        "# Assign `username` to a username\n",
        "\n",
        "username = \"sgilmore\"\n",
        "\n",
        "# Assign `device_id` to a device ID\n",
        "\n",
        "device_id = \"4n482ts\"\n",
        "\n",
        "# Assign `ind` to the index of `username` in `approved_users`\n",
        "\n",
        "ind = approved_users.index(username)\n",
        "\n",
        "# If statement\n",
        "# If `username` belongs to `approved_users`, and if the element at `ind` in `approved_devices` matches `device_id`,\n",
        "# then display a message that the username is approved,\n",
        "# followed by a message that the user has the correct device\n",
        "\n",
        "if username in approved_users and device_id == approved_devices[ind]:\n",
        "    print(\"The user\", username, \"is approved to access the system.\")\n",
        "    print(device_id, \"is the assigned device for\", username)\n",
        "\n",
        "# Elif statement\n",
        "# Handles the case when `username` belongs to `approved_users` but element at `ind` in `approved_devices` does not match `device_id`,\n",
        "# and displays two messages accordingly\n",
        "\n",
        "elif username in approved_users and device_id != approved_devices[ind]:\n",
        "    print(\"The user\", username, \"is approved to access the system, but\", device_id, \"is not their assigned device.\")"
      ],
      "metadata": {
        "colab": {
          "base_uri": "https://localhost:8080/"
        },
        "id": "J5J3m1vVixaV",
        "outputId": "6c385f86-24af-4ae4-fb35-b5063ba2282d"
      },
      "execution_count": 11,
      "outputs": [
        {
          "output_type": "stream",
          "name": "stdout",
          "text": [
            "The user sgilmore is approved to access the system.\n",
            "4n482ts is the assigned device for sgilmore\n"
          ]
        }
      ]
    },
    {
      "cell_type": "code",
      "source": [
        "# Assign `approved_users` to a list of approved usernames\n",
        "\n",
        "approved_users = [\"elarson\", \"bmoreno\", \"sgilmore\", \"eraab\", \"gesparza\"]\n",
        "\n",
        "# Assign `approved_devices` to a list of device IDs that correspond to the usernames in `approved_users`\n",
        "\n",
        "approved_devices = [\"8rp2k75\", \"hl0s5o1\", \"4n482ts\", \"a307vir\", \"3rcv4w6\"]\n",
        "\n",
        "# Define a function named `login` that takes in two parameters, `username` and `device_id`\n",
        "\n",
        "def login(username, device_id):\n",
        "\n",
        "    # If `username` belongs to `approved_users`,\n",
        "\n",
        "    if username in approved_users:\n",
        "\n",
        "        # then display \"The user ______ is approved to access the system.\",\n",
        "\n",
        "        print(\"The user\", username, \"is approved to access the system.\")\n",
        "\n",
        "        # assign `ind` to the index of `username` in `approved_users`,\n",
        "\n",
        "        ind = approved_users.index(username)\n",
        "\n",
        "        # and execute the following conditional\n",
        "        # If `device_id` matches the element at the index `ind` in `approved_devices`,\n",
        "\n",
        "        if device_id == approved_devices[ind]:\n",
        "\n",
        "          # then display \"______ is the assigned device for ______\"\n",
        "\n",
        "          print(device_id, \"is the assigned device for\", username)\n",
        "\n",
        "        # Otherwise,\n",
        "\n",
        "        else:\n",
        "\n",
        "          # display \"______ is not their assigned device\"\n",
        "\n",
        "          print(device_id, \"is not their assigned device.\")\n",
        "\n",
        "    # Otherwise (part of the outer conditional and handles the case when `username` does not belong to `approved_users`),\n",
        "\n",
        "    else:\n",
        "\n",
        "        # Display \"The user ______ is not approved to access the system.\"\n",
        "\n",
        "        print(\"The username\", username, \"is not approved to access the system.\")\n",
        "\n",
        "# Call the function you just defined to experiment with different username and device_id combinations\n",
        "\n",
        "login(\"bmoreno\", \"hl0s5o1\")\n",
        "login(\"elarson\", \"r2s5r9g\")\n",
        "login(\"abernard\", \"4n482ts\")\n"
      ],
      "metadata": {
        "colab": {
          "base_uri": "https://localhost:8080/"
        },
        "id": "OcnD3lgzi24B",
        "outputId": "02ac3673-dd4f-43fe-f1a8-39bf2d8e2c4a"
      },
      "execution_count": 12,
      "outputs": [
        {
          "output_type": "stream",
          "name": "stdout",
          "text": [
            "The user bmoreno is approved to access the system.\n",
            "hl0s5o1 is the assigned device for bmoreno\n",
            "The user elarson is approved to access the system.\n",
            "r2s5r9g is not their assigned device.\n",
            "The username abernard is not approved to access the system.\n"
          ]
        }
      ]
    }
  ]
}