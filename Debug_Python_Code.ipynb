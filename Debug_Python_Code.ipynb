{
  "nbformat": 4,
  "nbformat_minor": 0,
  "metadata": {
    "colab": {
      "provenance": [],
      "authorship_tag": "ABX9TyPz7+BBaSpgwGrGLv/BE2MC",
      "include_colab_link": true
    },
    "kernelspec": {
      "name": "python3",
      "display_name": "Python 3"
    },
    "language_info": {
      "name": "python"
    }
  },
  "cells": [
    {
      "cell_type": "markdown",
      "metadata": {
        "id": "view-in-github",
        "colab_type": "text"
      },
      "source": [
        "<a href=\"https://colab.research.google.com/github/Champagne007/Champagne007/blob/main/Debug_Python_Code.ipynb\" target=\"_parent\"><img src=\"https://colab.research.google.com/assets/colab-badge.svg\" alt=\"Open In Colab\"/></a>"
      ]
    },
    {
      "cell_type": "code",
      "execution_count": 1,
      "metadata": {
        "colab": {
          "base_uri": "https://localhost:8080/"
        },
        "id": "80m1L69exlmD",
        "outputId": "155c7bff-7596-4896-dc0c-c41371dd6508"
      },
      "outputs": [
        {
          "output_type": "stream",
          "name": "stdout",
          "text": [
            "Connection cannot be established\n",
            "Connection cannot be established\n",
            "Connection cannot be established\n",
            "Connection cannot be established\n",
            "Connection cannot be established\n",
            "Connection cannot be established\n",
            "Connection cannot be established\n",
            "Connection cannot be established\n",
            "Connection cannot be established\n",
            "Connection cannot be established\n"
          ]
        }
      ],
      "source": [
        "# For loop that iterates over a range of numbers\n",
        "# and displays a message each iteration\n",
        "\n",
        "for i in range(10):\n",
        "    print(\"Connection cannot be established\")"
      ]
    },
    {
      "cell_type": "code",
      "source": [
        "# Assign `usernames_list` to a list of usernames\n",
        "\n",
        "usernames_list = [\"djames\", \"jpark\", \"tbailey\", \"zdutchma\", \"esmith\", \"srobinso\", \"dcoleman\", \"fbautist\"]\n",
        "\n",
        "# Display `usernames_list`\n",
        "\n",
        "print(usernames_list)"
      ],
      "metadata": {
        "colab": {
          "base_uri": "https://localhost:8080/"
        },
        "id": "WcSMgWBv0dQk",
        "outputId": "73738e4c-1598-4771-933d-220b45ae6a48"
      },
      "execution_count": 2,
      "outputs": [
        {
          "output_type": "stream",
          "name": "stdout",
          "text": [
            "['djames', 'jpark', 'tbailey', 'zdutchma', 'esmith', 'srobinso', 'dcoleman', 'fbautist']\n"
          ]
        }
      ]
    },
    {
      "cell_type": "code",
      "source": [
        "# Display a message in upper case\n",
        "\n",
        "print(\"update needed\".upper())"
      ],
      "metadata": {
        "colab": {
          "base_uri": "https://localhost:8080/"
        },
        "id": "vn7C8w2a0vpI",
        "outputId": "8f09cd1c-6989-4350-80e7-b2484bdcf50f"
      },
      "execution_count": 3,
      "outputs": [
        {
          "output_type": "stream",
          "name": "stdout",
          "text": [
            "UPDATE NEEDED\n"
          ]
        }
      ]
    },
    {
      "cell_type": "code",
      "source": [
        "# Assign `usernames_list` to a list of usernames that represent approved users\n",
        "\n",
        "usernames_list = [\"djames\", \"jpark\", \"tbailey\", \"zdutchma\", \"esmith\", \"srobinso\", \"dcoleman\", \"fbautist\"]\n",
        "\n",
        "# Assign `username` to a specific username\n",
        "\n",
        "username = \"esmith\"\n",
        "\n",
        "# For loop that iterates over the elements of `usernames_list` and determines whether each element corresponds to an approved user\n",
        "\n",
        "for name in usernames_list:\n",
        "\n",
        "    # Check if `name` matches `username`\n",
        "    # If it does match, then display a message accordingly\n",
        "\n",
        "    if name == username:\n",
        "        print(\"The user is an approved user\")"
      ],
      "metadata": {
        "colab": {
          "base_uri": "https://localhost:8080/"
        },
        "id": "f_AlOCvq04ln",
        "outputId": "f4ebf44a-a17a-4e95-a5ce-80576489050d"
      },
      "execution_count": 4,
      "outputs": [
        {
          "output_type": "stream",
          "name": "stdout",
          "text": [
            "The user is an approved user\n"
          ]
        }
      ]
    },
    {
      "cell_type": "code",
      "source": [
        "# Assign `usernames_list` to a list of usernames\n",
        "\n",
        "usernames_list = [\"elarson\", \"bmoreno\", \"tshah\", \"sgilmore\", \"eraab\"]\n",
        "\n",
        "# Assign `username` to a specific username\n",
        "\n",
        "username = \"eraab\"\n",
        "\n",
        "# Determine whether `username` is the final username in `usernames_list`\n",
        "# If it is, then display a message accordingly\n",
        "\n",
        "if username == usernames_list[4]:\n",
        "    print(\"This username is the final one in the list.\")"
      ],
      "metadata": {
        "colab": {
          "base_uri": "https://localhost:8080/"
        },
        "id": "JQLgYk_E1ACX",
        "outputId": "6ec5ae0d-2585-4bd8-8ce9-881b63aac951"
      },
      "execution_count": 5,
      "outputs": [
        {
          "output_type": "stream",
          "name": "stdout",
          "text": [
            "This username is the final one in the list.\n"
          ]
        }
      ]
    },
    {
      "cell_type": "code",
      "source": [
        "# Assign `system` to a specific operating system as a string\n",
        "\n",
        "system = \"OS 2\"\n",
        "\n",
        "# Assign `patch_schedule` to a list of patch dates in order of operating system\n",
        "\n",
        "patch_schedule = [\"March 1st\", \"April 1st\", \"May 1st\"]\n",
        "\n",
        "# Conditional statement that checks which operating system is stored in `system` and displays a message showing the corresponding patch date\n",
        "\n",
        "if system == \"OS 1\":\n",
        "    print(\"Patch date:\", patch_schedule[0])\n",
        "\n",
        "elif system == \"OS 2\":\n",
        "    print(\"Patch date:\", patch_schedule[1])\n",
        "\n",
        "elif system == \"OS 3\":\n",
        "    print(\"Patch date:\", patch_schedule[2])"
      ],
      "metadata": {
        "colab": {
          "base_uri": "https://localhost:8080/"
        },
        "id": "-_U3KPmk1ZaO",
        "outputId": "e1aaa57b-b5f5-46a6-a926-8b0ccda0378a"
      },
      "execution_count": 7,
      "outputs": [
        {
          "output_type": "stream",
          "name": "stdout",
          "text": [
            "Patch date: April 1st\n"
          ]
        }
      ]
    },
    {
      "cell_type": "code",
      "source": [],
      "metadata": {
        "id": "wQbNLMo61iyV"
      },
      "execution_count": null,
      "outputs": []
    }
  ]
}